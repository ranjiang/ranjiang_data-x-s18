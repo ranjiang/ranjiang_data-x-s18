{
 "cells": [
  {
   "cell_type": "code",
   "execution_count": 1,
   "metadata": {
    "collapsed": true
   },
   "outputs": [],
   "source": [
    "import pandas as pd\n",
    "import numpy as np"
   ]
  },
  {
   "cell_type": "code",
   "execution_count": 2,
   "metadata": {
    "collapsed": true
   },
   "outputs": [],
   "source": [
    "df=pd.DataFrame()"
   ]
  },
  {
   "cell_type": "code",
   "execution_count": 4,
   "metadata": {},
   "outputs": [
    {
     "data": {
      "text/html": [
       "<div>\n",
       "<style>\n",
       "    .dataframe thead tr:only-child th {\n",
       "        text-align: right;\n",
       "    }\n",
       "\n",
       "    .dataframe thead th {\n",
       "        text-align: left;\n",
       "    }\n",
       "\n",
       "    .dataframe tbody tr th {\n",
       "        vertical-align: top;\n",
       "    }\n",
       "</style>\n",
       "<table border=\"1\" class=\"dataframe\">\n",
       "  <thead>\n",
       "    <tr style=\"text-align: right;\">\n",
       "      <th></th>\n",
       "      <th>HasJob</th>\n",
       "      <th>HasFamily</th>\n",
       "      <th>IsAbove30years</th>\n",
       "      <th>Defaulter</th>\n",
       "    </tr>\n",
       "  </thead>\n",
       "  <tbody>\n",
       "    <tr>\n",
       "      <th>0</th>\n",
       "      <td>1</td>\n",
       "      <td>1</td>\n",
       "      <td>1</td>\n",
       "      <td>0</td>\n",
       "    </tr>\n",
       "    <tr>\n",
       "      <th>1</th>\n",
       "      <td>1</td>\n",
       "      <td>1</td>\n",
       "      <td>1</td>\n",
       "      <td>0</td>\n",
       "    </tr>\n",
       "    <tr>\n",
       "      <th>2</th>\n",
       "      <td>1</td>\n",
       "      <td>0</td>\n",
       "      <td>1</td>\n",
       "      <td>0</td>\n",
       "    </tr>\n",
       "    <tr>\n",
       "      <th>3</th>\n",
       "      <td>0</td>\n",
       "      <td>1</td>\n",
       "      <td>0</td>\n",
       "      <td>0</td>\n",
       "    </tr>\n",
       "    <tr>\n",
       "      <th>4</th>\n",
       "      <td>0</td>\n",
       "      <td>0</td>\n",
       "      <td>1</td>\n",
       "      <td>1</td>\n",
       "    </tr>\n",
       "    <tr>\n",
       "      <th>5</th>\n",
       "      <td>0</td>\n",
       "      <td>1</td>\n",
       "      <td>0</td>\n",
       "      <td>1</td>\n",
       "    </tr>\n",
       "    <tr>\n",
       "      <th>6</th>\n",
       "      <td>1</td>\n",
       "      <td>0</td>\n",
       "      <td>1</td>\n",
       "      <td>1</td>\n",
       "    </tr>\n",
       "    <tr>\n",
       "      <th>7</th>\n",
       "      <td>1</td>\n",
       "      <td>0</td>\n",
       "      <td>1</td>\n",
       "      <td>1</td>\n",
       "    </tr>\n",
       "  </tbody>\n",
       "</table>\n",
       "</div>"
      ],
      "text/plain": [
       "   HasJob  HasFamily  IsAbove30years  Defaulter\n",
       "0       1          1               1          0\n",
       "1       1          1               1          0\n",
       "2       1          0               1          0\n",
       "3       0          1               0          0\n",
       "4       0          0               1          1\n",
       "5       0          1               0          1\n",
       "6       1          0               1          1\n",
       "7       1          0               1          1"
      ]
     },
     "execution_count": 4,
     "metadata": {},
     "output_type": "execute_result"
    }
   ],
   "source": [
    "df['HasJob']=[1,1,1,0,0,0,1,1]\n",
    "df['HasFamily']=[1,1,0,1,0,1,0,0]\n",
    "df['IsAbove30years']=[1,1,1,0,1,0,1,1]\n",
    "df['Defaulter']=[0,0,0,0,1,1,1,1]\n",
    "df"
   ]
  },
  {
   "cell_type": "code",
   "execution_count": 11,
   "metadata": {},
   "outputs": [
    {
     "name": "stdout",
     "output_type": "stream",
     "text": [
      "0.625 0.5 0.75 0.5\n"
     ]
    }
   ],
   "source": [
    "p_hasjob = df['HasJob'].sum()/df.shape[0]\n",
    "p_hasfam = df['HasFamily'].sum()/df.shape[0]\n",
    "p_30 = df['IsAbove30years'].sum()/df.shape[0]\n",
    "p_defaulter = df['Defaulter'].sum()/df.shape[0]\n",
    "print(p_hasjob, p_hasfam, p_30,p_defaulter)"
   ]
  },
  {
   "cell_type": "code",
   "execution_count": 15,
   "metadata": {
    "scrolled": true
   },
   "outputs": [
    {
     "name": "stdout",
     "output_type": "stream",
     "text": [
      "0.4 0.25 0.5\n",
      "0.6666666666666666 0.75 0.5\n"
     ]
    },
    {
     "name": "stderr",
     "output_type": "stream",
     "text": [
      "/Users/ran/anaconda2/envs/py3/lib/python3.6/site-packages/ipykernel_launcher.py:1: UserWarning: Boolean Series key will be reindexed to match DataFrame index.\n",
      "  \"\"\"Entry point for launching an IPython kernel.\n",
      "/Users/ran/anaconda2/envs/py3/lib/python3.6/site-packages/ipykernel_launcher.py:2: UserWarning: Boolean Series key will be reindexed to match DataFrame index.\n",
      "  \n",
      "/Users/ran/anaconda2/envs/py3/lib/python3.6/site-packages/ipykernel_launcher.py:3: UserWarning: Boolean Series key will be reindexed to match DataFrame index.\n",
      "  This is separate from the ipykernel package so we can avoid doing imports until\n",
      "/Users/ran/anaconda2/envs/py3/lib/python3.6/site-packages/ipykernel_launcher.py:5: UserWarning: Boolean Series key will be reindexed to match DataFrame index.\n",
      "  \"\"\"\n",
      "/Users/ran/anaconda2/envs/py3/lib/python3.6/site-packages/ipykernel_launcher.py:6: UserWarning: Boolean Series key will be reindexed to match DataFrame index.\n",
      "  \n",
      "/Users/ran/anaconda2/envs/py3/lib/python3.6/site-packages/ipykernel_launcher.py:7: UserWarning: Boolean Series key will be reindexed to match DataFrame index.\n",
      "  import sys\n"
     ]
    }
   ],
   "source": [
    "p_hasjob_1 = df[df[\"HasJob\"]==1][df[\"Defaulter\"]==1].shape[0]/df[df[\"HasJob\"]==1].shape[0]\n",
    "p_hasfam_1 = df[df[\"HasFamily\"]==1][df[\"Defaulter\"]==1].shape[0]/df[df[\"HasFamily\"]==1].shape[0]\n",
    "p_30_1 = df[df[\"IsAbove30years\"]==1][df[\"Defaulter\"]==1].shape[0]/df[df[\"IsAbove30years\"]==1].shape[0]\n",
    "\n",
    "p_hasjob_0 = df[df[\"HasJob\"]==0][df[\"Defaulter\"]==1].shape[0]/df[df[\"HasJob\"]==0].shape[0]\n",
    "p_hasfam_0 = df[df[\"HasFamily\"]==0][df[\"Defaulter\"]==1].shape[0]/df[df[\"HasFamily\"]==0].shape[0]\n",
    "p_30_0 = df[df[\"IsAbove30years\"]==0][df[\"Defaulter\"]==1].shape[0]/df[df[\"IsAbove30years\"]==0].shape[0]\n",
    "\n",
    "print (p_hasjob_1, p_hasfam_1,p_30_1)\n",
    "print (p_hasjob_0, p_hasfam_0,p_30_0)"
   ]
  },
  {
   "cell_type": "code",
   "execution_count": 21,
   "metadata": {},
   "outputs": [
    {
     "name": "stdout",
     "output_type": "stream",
     "text": [
      "Information gain hasjob: 0.04879494069539847 hasfam: 0.18872187554086717 isabove30: 0.0\n"
     ]
    }
   ],
   "source": [
    "# Entropy Calculations\n",
    "p_30_e = (p_30_1*np.log2(1/p_30_1) + (1-p_30_1)*np.log2(1/(1-p_30_1)))* p_30 \\\n",
    "        + (p_30_0*np.log2(1/p_30_0) + (1-p_30_0)*np.log2(1/(1-p_30_0)))*(1-p_30)\n",
    "p_hasjob_e = (p_hasjob_1*np.log2(1/p_hasjob_1) + (1-p_hasjob_1)*np.log2(1/(1-p_hasjob_1)))* p_hasjob \\\n",
    "        + (p_hasjob_0*np.log2(1/p_hasjob_0) + (1-p_hasjob_0)*np.log2(1/(1-p_hasjob_0)))*(1-p_hasjob)\n",
    "p_hasfam_e = (p_hasfam_1*np.log2(1/p_hasfam_1) + (1-p_hasfam_1)*np.log2(1/(1-p_hasfam_1)))* p_hasfam \\\n",
    "        + (p_hasfam_0*np.log2(1/p_hasfam_0) + (1-p_hasfam_0)*np.log2(1/(1-p_hasfam_0)))*(1-p_hasfam)\n",
    "    \n",
    "print ('Information gain','hasjob:',1-p_hasjob_e, 'hasfam:',1-p_hasfam_e,'isabove30:',1-p_30_e)"
   ]
  },
  {
   "cell_type": "markdown",
   "metadata": {},
   "source": [
    "HasFam gained most information, so it is the best feature to do the first split"
   ]
  },
  {
   "cell_type": "code",
   "execution_count": 5,
   "metadata": {
    "collapsed": true
   },
   "outputs": [],
   "source": [
    "A=0.7\n",
    "B=0.2\n",
    "C=0.1"
   ]
  },
  {
   "cell_type": "code",
   "execution_count": 10,
   "metadata": {},
   "outputs": [
    {
     "name": "stdout",
     "output_type": "stream",
     "text": [
      "1.1567796494470395\n"
     ]
    }
   ],
   "source": [
    "entropy = A*np.log2(1/A) + B*np.log2(1/B) + C*np.log2(1/C)\n",
    "print(entropy)"
   ]
  }
 ],
 "metadata": {
  "kernelspec": {
   "display_name": "Python 3",
   "language": "python",
   "name": "python3"
  },
  "language_info": {
   "codemirror_mode": {
    "name": "ipython",
    "version": 3
   },
   "file_extension": ".py",
   "mimetype": "text/x-python",
   "name": "python",
   "nbconvert_exporter": "python",
   "pygments_lexer": "ipython3",
   "version": "3.6.3"
  }
 },
 "nbformat": 4,
 "nbformat_minor": 2
}
