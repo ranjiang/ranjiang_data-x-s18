{
 "cells": [
  {
   "cell_type": "markdown",
   "metadata": {},
   "source": [
    "# Data-X Spring 2018: Homework 02\n",
    "\n",
    "### Regression, Classification, Webscraping\n",
    "\n",
    "**Authors:** Sana Iqbal (Part 1, 2, 3), Alexander Fred-Ojala (Extra Credit)\n",
    "\n",
    "\n",
    "In this homework, you will do some exercises with prediction-classification, regression and web-scraping.\n"
   ]
  },
  {
   "cell_type": "markdown",
   "metadata": {},
   "source": [
    "## Part 1"
   ]
  },
  {
   "cell_type": "markdown",
   "metadata": {},
   "source": [
    "\n",
    "### Data:\n",
    "__Data Source__:\n",
    "Data file is uploaded to bCourses and is named: __Energy.csv__\n",
    "\n",
    "The dataset was created by Angeliki Xifara ( Civil/Structural Engineer) and was processed by Athanasios Tsanas, Oxford Centre for Industrial and Applied Mathematics, University of Oxford, UK).\n",
    "\n",
    "__Data Description__:\n",
    "\n",
    "The dataset contains eight attributes of a building (or features, denoted by X1...X8) and response being the heating load on the building, y1. \n",
    "\n",
    "* X1\tRelative Compactness \n",
    "* X2\tSurface Area \n",
    "* X3\tWall Area \n",
    "*  X4\tRoof Area \n",
    "*  X5\tOverall Height \n",
    "* X6\tOrientation \n",
    "*  X7\tGlazing Area \n",
    "*  X8\tGlazing Area Distribution \n",
    "*  y1\tHeating Load \n"
   ]
  },
  {
   "cell_type": "markdown",
   "metadata": {},
   "source": [
    "### Q1:Read the data file in python. Describe data features in terms of type, distribution range and mean values. Plot feature distributions.This step should give you clues about data sufficiency."
   ]
  },
  {
   "cell_type": "code",
   "execution_count": 25,
   "metadata": {
    "collapsed": true
   },
   "outputs": [],
   "source": [
    "import pandas as pd\n",
    "from pandas import DataFrame\n",
    "import numpy as np\n",
    "import matplotlib.pyplot as plt"
   ]
  },
  {
   "cell_type": "code",
   "execution_count": 26,
   "metadata": {
    "scrolled": true
   },
   "outputs": [
    {
     "data": {
      "text/plain": [
       "X1    float64\n",
       "X2    float64\n",
       "X3    float64\n",
       "X4    float64\n",
       "X5    float64\n",
       "X6      int64\n",
       "X7    float64\n",
       "X8      int64\n",
       "Y1    float64\n",
       "dtype: object"
      ]
     },
     "execution_count": 26,
     "metadata": {},
     "output_type": "execute_result"
    }
   ],
   "source": [
    "df_energy = pd.read_csv('Energy.csv')\n",
    "df_energy.dtypes"
   ]
  },
  {
   "cell_type": "code",
   "execution_count": 27,
   "metadata": {},
   "outputs": [
    {
     "data": {
      "text/html": [
       "<div>\n",
       "<style>\n",
       "    .dataframe thead tr:only-child th {\n",
       "        text-align: right;\n",
       "    }\n",
       "\n",
       "    .dataframe thead th {\n",
       "        text-align: left;\n",
       "    }\n",
       "\n",
       "    .dataframe tbody tr th {\n",
       "        vertical-align: top;\n",
       "    }\n",
       "</style>\n",
       "<table border=\"1\" class=\"dataframe\">\n",
       "  <thead>\n",
       "    <tr style=\"text-align: right;\">\n",
       "      <th></th>\n",
       "      <th>X1</th>\n",
       "      <th>X2</th>\n",
       "      <th>X3</th>\n",
       "      <th>X4</th>\n",
       "      <th>X5</th>\n",
       "      <th>X6</th>\n",
       "      <th>X7</th>\n",
       "      <th>X8</th>\n",
       "      <th>Y1</th>\n",
       "    </tr>\n",
       "  </thead>\n",
       "  <tbody>\n",
       "    <tr>\n",
       "      <th>count</th>\n",
       "      <td>768.000000</td>\n",
       "      <td>768.000000</td>\n",
       "      <td>768.000000</td>\n",
       "      <td>768.000000</td>\n",
       "      <td>768.00000</td>\n",
       "      <td>768.000000</td>\n",
       "      <td>768.000000</td>\n",
       "      <td>768.00000</td>\n",
       "      <td>768.000000</td>\n",
       "    </tr>\n",
       "    <tr>\n",
       "      <th>mean</th>\n",
       "      <td>0.764167</td>\n",
       "      <td>671.708333</td>\n",
       "      <td>318.500000</td>\n",
       "      <td>176.604167</td>\n",
       "      <td>5.25000</td>\n",
       "      <td>3.500000</td>\n",
       "      <td>0.234375</td>\n",
       "      <td>2.81250</td>\n",
       "      <td>22.307201</td>\n",
       "    </tr>\n",
       "    <tr>\n",
       "      <th>std</th>\n",
       "      <td>0.105777</td>\n",
       "      <td>88.086116</td>\n",
       "      <td>43.626481</td>\n",
       "      <td>45.165950</td>\n",
       "      <td>1.75114</td>\n",
       "      <td>1.118763</td>\n",
       "      <td>0.133221</td>\n",
       "      <td>1.55096</td>\n",
       "      <td>10.090196</td>\n",
       "    </tr>\n",
       "    <tr>\n",
       "      <th>min</th>\n",
       "      <td>0.620000</td>\n",
       "      <td>514.500000</td>\n",
       "      <td>245.000000</td>\n",
       "      <td>110.250000</td>\n",
       "      <td>3.50000</td>\n",
       "      <td>2.000000</td>\n",
       "      <td>0.000000</td>\n",
       "      <td>0.00000</td>\n",
       "      <td>6.010000</td>\n",
       "    </tr>\n",
       "    <tr>\n",
       "      <th>25%</th>\n",
       "      <td>0.682500</td>\n",
       "      <td>606.375000</td>\n",
       "      <td>294.000000</td>\n",
       "      <td>140.875000</td>\n",
       "      <td>3.50000</td>\n",
       "      <td>2.750000</td>\n",
       "      <td>0.100000</td>\n",
       "      <td>1.75000</td>\n",
       "      <td>12.992500</td>\n",
       "    </tr>\n",
       "    <tr>\n",
       "      <th>50%</th>\n",
       "      <td>0.750000</td>\n",
       "      <td>673.750000</td>\n",
       "      <td>318.500000</td>\n",
       "      <td>183.750000</td>\n",
       "      <td>5.25000</td>\n",
       "      <td>3.500000</td>\n",
       "      <td>0.250000</td>\n",
       "      <td>3.00000</td>\n",
       "      <td>18.950000</td>\n",
       "    </tr>\n",
       "    <tr>\n",
       "      <th>75%</th>\n",
       "      <td>0.830000</td>\n",
       "      <td>741.125000</td>\n",
       "      <td>343.000000</td>\n",
       "      <td>220.500000</td>\n",
       "      <td>7.00000</td>\n",
       "      <td>4.250000</td>\n",
       "      <td>0.400000</td>\n",
       "      <td>4.00000</td>\n",
       "      <td>31.667500</td>\n",
       "    </tr>\n",
       "    <tr>\n",
       "      <th>max</th>\n",
       "      <td>0.980000</td>\n",
       "      <td>808.500000</td>\n",
       "      <td>416.500000</td>\n",
       "      <td>220.500000</td>\n",
       "      <td>7.00000</td>\n",
       "      <td>5.000000</td>\n",
       "      <td>0.400000</td>\n",
       "      <td>5.00000</td>\n",
       "      <td>43.100000</td>\n",
       "    </tr>\n",
       "  </tbody>\n",
       "</table>\n",
       "</div>"
      ],
      "text/plain": [
       "               X1          X2          X3          X4         X5          X6  \\\n",
       "count  768.000000  768.000000  768.000000  768.000000  768.00000  768.000000   \n",
       "mean     0.764167  671.708333  318.500000  176.604167    5.25000    3.500000   \n",
       "std      0.105777   88.086116   43.626481   45.165950    1.75114    1.118763   \n",
       "min      0.620000  514.500000  245.000000  110.250000    3.50000    2.000000   \n",
       "25%      0.682500  606.375000  294.000000  140.875000    3.50000    2.750000   \n",
       "50%      0.750000  673.750000  318.500000  183.750000    5.25000    3.500000   \n",
       "75%      0.830000  741.125000  343.000000  220.500000    7.00000    4.250000   \n",
       "max      0.980000  808.500000  416.500000  220.500000    7.00000    5.000000   \n",
       "\n",
       "               X7         X8          Y1  \n",
       "count  768.000000  768.00000  768.000000  \n",
       "mean     0.234375    2.81250   22.307201  \n",
       "std      0.133221    1.55096   10.090196  \n",
       "min      0.000000    0.00000    6.010000  \n",
       "25%      0.100000    1.75000   12.992500  \n",
       "50%      0.250000    3.00000   18.950000  \n",
       "75%      0.400000    4.00000   31.667500  \n",
       "max      0.400000    5.00000   43.100000  "
      ]
     },
     "execution_count": 27,
     "metadata": {},
     "output_type": "execute_result"
    }
   ],
   "source": [
    "df_energy.describe()"
   ]
  },
  {
   "cell_type": "code",
   "execution_count": 28,
   "metadata": {
    "scrolled": true
   },
   "outputs": [
    {
     "name": "stdout",
     "output_type": "stream",
     "text": [
      "<class 'pandas.core.frame.DataFrame'>\n",
      "RangeIndex: 768 entries, 0 to 767\n",
      "Data columns (total 9 columns):\n",
      "X1    768 non-null float64\n",
      "X2    768 non-null float64\n",
      "X3    768 non-null float64\n",
      "X4    768 non-null float64\n",
      "X5    768 non-null float64\n",
      "X6    768 non-null int64\n",
      "X7    768 non-null float64\n",
      "X8    768 non-null int64\n",
      "Y1    768 non-null float64\n",
      "dtypes: float64(7), int64(2)\n",
      "memory usage: 54.1 KB\n"
     ]
    }
   ],
   "source": [
    "df_energy.info()"
   ]
  },
  {
   "cell_type": "code",
   "execution_count": 29,
   "metadata": {},
   "outputs": [
    {
     "data": {
      "image/png": "[encoded data removed]",
      "text/plain": [
       "<matplotlib.figure.Figure at 0x11348d358>"
      ]
     },
     "metadata": {},
     "output_type": "display_data"
    },
    {
     "data": {
      "image/png": "[encoded data removed]",
      "text/plain": [
       "<matplotlib.figure.Figure at 0x1138c20b8>"
      ]
     },
     "metadata": {},
     "output_type": "display_data"
    }
   ],
   "source": [
    "df_energy.boxplot()\n",
    "df_energy.hist(figsize=(13,10))\n",
    "plt.show()"
   ]
  },
  {
   "cell_type": "markdown",
   "metadata": {},
   "source": [
    " __REGRESSION__:\n",
    "LABELS ARE CONTINUOUS VALUES.\n",
    "Here the model is trained to predict a continuous value for each instance.\n",
    "On inputting a feature vector into the model, the trained model is able to predict a continuous value  for  that instance.  \n",
    "\n",
    "__Q2.1: Train a linear regression model on 85 percent of the given dataset, what is the intercept value and coefficient values.__\n",
    "\n"
   ]
  },
  {
   "cell_type": "code",
   "execution_count": 30,
   "metadata": {
    "scrolled": true
   },
   "outputs": [
    {
     "name": "stdout",
     "output_type": "stream",
     "text": [
      "[ -6.51273538e+01   5.45865377e+11  -5.45865377e+11  -1.09173075e+12\n",
      "   4.31875224e+00   2.03479748e-02   1.97104305e+01   2.06084437e-01]\n",
      "82.2604785605\n"
     ]
    }
   ],
   "source": [
    "df_train = df_energy.sample(frac=0.85, random_state=1)\n",
    "df_test = df_energy.loc[~df_energy.index.isin(df_train.index)]\n",
    "df_train.head()\n",
    "#'Relative Compactness','Surface Area','Wall Area','Roof Area','Overall Height','Orientation',\n",
    "#'Glazing Area','Glazing Area Distribution'\n",
    "x_train=df_train[['X1','X2','X3','X4','X5','X6','X7','X8']]\n",
    "y_train=df_train['Y1']\n",
    "x_test=df_test[['X1','X2','X3','X4','X5','X6','X7','X8']]\n",
    "y_test=df_test['Y1']\n",
    "from sklearn import linear_model\n",
    "from math import sqrt\n",
    "from sklearn.metrics import mean_squared_error\n",
    "from sklearn.linear_model import LinearRegression\n",
    "from sklearn.cross_validation import train_test_split\n",
    "lrm = linear_model.LinearRegression()\n",
    "lrm.fit(x_train, y_train)\n",
    "print(lrm.coef_)\n",
    "print(lrm.intercept_)"
   ]
  },
  {
   "cell_type": "markdown",
   "metadata": {
    "collapsed": true
   },
   "source": [
    "\n",
    "#### Q.2.2: Report model performance using 'ROOT MEAN SQUARE' error metric on:  \n",
    "__1. Data that was used for training(Training error)__   \n",
    "__2. On the 15 percent of unseen data (test error) __ \n",
    "\n"
   ]
  },
  {
   "cell_type": "code",
   "execution_count": 31,
   "metadata": {},
   "outputs": [
    {
     "name": "stdout",
     "output_type": "stream",
     "text": [
      "training error: 2.95218574892\n",
      "test error: 2.80015514166\n"
     ]
    }
   ],
   "source": [
    "y_pred_train = lrm.predict(x_train)\n",
    "rms2_train = np.sqrt(mean_squared_error(y_train, y_pred_train))\n",
    "print('training error:',rms2_train)\n",
    "\n",
    "y_pred_test = lrm.predict(x_test)\n",
    "rms2_test = np.sqrt(mean_squared_error(y_test, y_pred_test))\n",
    "print('test error:',rms2_test)"
   ]
  },
  {
   "cell_type": "markdown",
   "metadata": {},
   "source": [
    "\n",
    "__ Q2.3: Lets us see the effect of amount of data on the performance of prediction model.Use varying amounts of  Training data (100,200,300,400,500,all) to train regression models and report  training error and validation error in each case. Validation data/Test data   is the same as above for  all  these cases.__  \n",
    "\n",
    "Plot error rates vs number of training examples.Comment on the relationshipyou observe in the plot, between the amount of data used to train the model and the validation accuracy of the model.\n",
    "\n",
    "__Hint:__ Use array indexing to choose varying data amounts"
   ]
  },
  {
   "cell_type": "code",
   "execution_count": 32,
   "metadata": {},
   "outputs": [
    {
     "name": "stdout",
     "output_type": "stream",
     "text": [
      "[100, 200, 300, 400, 500, 653] [8.3561195237888182, 10.361883393606144, 9.5714840328655164, 8.9740758905807745, 8.7348930645252594, 8.7154006961395538] [7.5159980074304942, 7.755206066962324, 7.6203573519467396, 7.7011008063122368, 7.6905107157680597, 7.8408688173774665]\n"
     ]
    },
    {
     "data": {
      "image/png": "[encoded data removed]",
      "text/plain": [
       "<matplotlib.figure.Figure at 0x116375eb8>"
      ]
     },
     "metadata": {},
     "output_type": "display_data"
    }
   ],
   "source": [
    "index=[100,200,300,400,500,len(x_train)]\n",
    "reg = LinearRegression()\n",
    "train_errors = []\n",
    "test_errors = []\n",
    "for i in index:\n",
    "    X_train=x_train[:i]\n",
    "    Y_train=y_train[:i]\n",
    "    reg.fit(X_train, Y_train)\n",
    "    Y_pred_train = reg.predict(X_train)\n",
    "    Y_pred_test = reg.predict(x_test)\n",
    "    train_err = mean_squared_error(Y_train, Y_pred_train)\n",
    "    test_err = mean_squared_error(y_test, Y_pred_test)\n",
    "    train_errors.append(train_err)\n",
    "    test_errors.append(test_err)\n",
    "print(index, train_errors, test_errors)\n",
    "plt.plot(index, train_errors, index, test_errors)\n",
    "plt.show()"
   ]
  },
  {
   "cell_type": "markdown",
   "metadata": {},
   "source": [
    "\n",
    "__CLASSIFICATION__:\n",
    "LABELS ARE DISCRETE VALUES.\n",
    "Here the model is trained to classify each instance into a set of predefined  discrete classes.\n",
    "On inputting a feature vector into the model, the trained model is able to predict a  class of that instance. You can also output the probabilities of an instance belnging to a class.  \n",
    "\n",
    "__ Q 3.1:  Bucket values of 'y1' i.e 'Heating Load'  from the original dataset into 3 classes:__ \n",
    "\n",
    "0: 'Low' ( < 15),   \n",
    "1: 'Medium'  (15-30),   \n",
    "2: 'High'  (>30)\n",
    "\n",
    "This converts the given dataset  into a classification problem, classes being, Heating load is: *low, medium or high*. Use this datset with transformed 'heating load' for creating a  logistic regression classifiction model that predicts heating load type of a building. Use test-train split ratio of 0.15.  \n",
    "\n",
    "*Report training and test accuracies and  confusion matrices.*\n",
    "\n",
    "\n",
    "**HINT:** Use pandas.cut"
   ]
  },
  {
   "cell_type": "code",
   "execution_count": 33,
   "metadata": {
    "scrolled": false
   },
   "outputs": [
    {
     "name": "stderr",
     "output_type": "stream",
     "text": [
      "/Users/ran/anaconda2/envs/py3/lib/python3.6/site-packages/ipykernel_launcher.py:1: SettingWithCopyWarning: \n",
      "A value is trying to be set on a copy of a slice from a DataFrame.\n",
      "Try using .loc[row_indexer,col_indexer] = value instead\n",
      "\n",
      "See the caveats in the documentation: http://pandas.pydata.org/pandas-docs/stable/indexing.html#indexing-view-versus-copy\n",
      "  \"\"\"Entry point for launching an IPython kernel.\n"
     ]
    },
    {
     "data": {
      "text/html": [
       "<div>\n",
       "<style>\n",
       "    .dataframe thead tr:only-child th {\n",
       "        text-align: right;\n",
       "    }\n",
       "\n",
       "    .dataframe thead th {\n",
       "        text-align: left;\n",
       "    }\n",
       "\n",
       "    .dataframe tbody tr th {\n",
       "        vertical-align: top;\n",
       "    }\n",
       "</style>\n",
       "<table border=\"1\" class=\"dataframe\">\n",
       "  <thead>\n",
       "    <tr style=\"text-align: right;\">\n",
       "      <th></th>\n",
       "      <th>X1</th>\n",
       "      <th>X2</th>\n",
       "      <th>X3</th>\n",
       "      <th>X4</th>\n",
       "      <th>X5</th>\n",
       "      <th>X6</th>\n",
       "      <th>X7</th>\n",
       "      <th>X8</th>\n",
       "      <th>Y1</th>\n",
       "      <th>Y1 class</th>\n",
       "    </tr>\n",
       "  </thead>\n",
       "  <tbody>\n",
       "    <tr>\n",
       "      <th>7</th>\n",
       "      <td>0.90</td>\n",
       "      <td>563.5</td>\n",
       "      <td>318.5</td>\n",
       "      <td>122.5</td>\n",
       "      <td>7.0</td>\n",
       "      <td>5</td>\n",
       "      <td>0.0</td>\n",
       "      <td>0</td>\n",
       "      <td>19.68</td>\n",
       "      <td>1</td>\n",
       "    </tr>\n",
       "    <tr>\n",
       "      <th>10</th>\n",
       "      <td>0.86</td>\n",
       "      <td>588.0</td>\n",
       "      <td>294.0</td>\n",
       "      <td>147.0</td>\n",
       "      <td>7.0</td>\n",
       "      <td>4</td>\n",
       "      <td>0.0</td>\n",
       "      <td>0</td>\n",
       "      <td>19.34</td>\n",
       "      <td>1</td>\n",
       "    </tr>\n",
       "    <tr>\n",
       "      <th>15</th>\n",
       "      <td>0.82</td>\n",
       "      <td>612.5</td>\n",
       "      <td>318.5</td>\n",
       "      <td>147.0</td>\n",
       "      <td>7.0</td>\n",
       "      <td>5</td>\n",
       "      <td>0.0</td>\n",
       "      <td>0</td>\n",
       "      <td>15.98</td>\n",
       "      <td>1</td>\n",
       "    </tr>\n",
       "    <tr>\n",
       "      <th>22</th>\n",
       "      <td>0.76</td>\n",
       "      <td>661.5</td>\n",
       "      <td>416.5</td>\n",
       "      <td>122.5</td>\n",
       "      <td>7.0</td>\n",
       "      <td>4</td>\n",
       "      <td>0.0</td>\n",
       "      <td>0</td>\n",
       "      <td>24.77</td>\n",
       "      <td>1</td>\n",
       "    </tr>\n",
       "    <tr>\n",
       "      <th>25</th>\n",
       "      <td>0.74</td>\n",
       "      <td>686.0</td>\n",
       "      <td>245.0</td>\n",
       "      <td>220.5</td>\n",
       "      <td>3.5</td>\n",
       "      <td>3</td>\n",
       "      <td>0.0</td>\n",
       "      <td>0</td>\n",
       "      <td>6.05</td>\n",
       "      <td>0</td>\n",
       "    </tr>\n",
       "  </tbody>\n",
       "</table>\n",
       "</div>"
      ],
      "text/plain": [
       "      X1     X2     X3     X4   X5  X6   X7  X8     Y1 Y1 class\n",
       "7   0.90  563.5  318.5  122.5  7.0   5  0.0   0  19.68        1\n",
       "10  0.86  588.0  294.0  147.0  7.0   4  0.0   0  19.34        1\n",
       "15  0.82  612.5  318.5  147.0  7.0   5  0.0   0  15.98        1\n",
       "22  0.76  661.5  416.5  122.5  7.0   4  0.0   0  24.77        1\n",
       "25  0.74  686.0  245.0  220.5  3.5   3  0.0   0   6.05        0"
      ]
     },
     "execution_count": 33,
     "metadata": {},
     "output_type": "execute_result"
    }
   ],
   "source": [
    "df_test[\"Y1 class\"] = pd.cut(df_test['Y1'], [0,15,30,100000],3, labels=['0','1','2'])\n",
    "df_test.head()"
   ]
  },
  {
   "cell_type": "markdown",
   "metadata": {},
   "source": [
    "__ Q3.2: One of the preprocessing steps in Data science is Feature Scaling i.e getting all our data on the same scale by setting same  Min-Max of feature values. This makes training less sensitive to the scale of features . Scaling is important in algorithms that use distance based classification, SVM or K means or involve gradient descent optimization.If we  Scale features in the range [0,1] it is called unity based normalization.__\n",
    "\n",
    "__Perform unity based normalization on the above dataset and train the model again, compare model performance in training and validation with your previous model.__  \n",
    "\n",
    "refer:http://scikit-learn.org/stable/modules/preprocessing.html#preprocessing-scaler  \n",
    "more at: https://en.wikipedia.org/wiki/Feature_scaling"
   ]
  },
  {
   "cell_type": "code",
   "execution_count": 34,
   "metadata": {},
   "outputs": [
    {
     "name": "stdout",
     "output_type": "stream",
     "text": [
      "Logistic Regression accuracy of train data: 36.96 %\n",
      "Logistic Regression accuracy of validation data: 30.17 %\n"
     ]
    }
   ],
   "source": [
    "from sklearn import preprocessing\n",
    "from sklearn.preprocessing import MinMaxScaler\n",
    "from sklearn.linear_model import LogisticRegression\n",
    "min_max_scaler = preprocessing.MinMaxScaler()\n",
    "\n",
    "x=df_energy[['X1','X2','X3','X4','X5','X6','X7','X8']]\n",
    "y=df_energy['Y1']\n",
    "y = y.apply(np.int64)\n",
    "\n",
    "x_minmax = min_max_scaler.fit_transform(x)\n",
    "x_train_minmax, x_test_minmax, y_train, y_test = train_test_split(x_minmax, y, test_size=0.15)\n",
    "\n",
    "logreg = LogisticRegression() # instantiate\n",
    "logreg.fit(x_train_minmax,y_train) # fit\n",
    "y_pred_train_minmax = logreg.predict(x_train_minmax) # predict\n",
    "y_pred_test_minmax = logreg.predict(x_test_minmax) # predict\n",
    "\n",
    "acc_log = sum(y_pred_train_minmax == y_train)/len(y_train)*100\n",
    "print('Logistic Regression accuracy of train data:', str(round(acc_log,2)),'%')\n",
    "\n",
    "y_pred_minmax_test = logreg.predict(x_test_minmax) # predict\n",
    "acc_log = sum(y_pred_test_minmax == y_test)/len(y_test)*100\n",
    "print('Logistic Regression accuracy of validation data:', str(round(acc_log,2)),'%')\n"
   ]
  },
  {
   "cell_type": "markdown",
   "metadata": {
    "collapsed": true
   },
   "source": [
    "## Part 2"
   ]
  },
  {
   "cell_type": "markdown",
   "metadata": {},
   "source": [
    "\n",
    "\n",
    "__ 1. Read __`diabetesdata.csv`__ file into a pandas dataframe. Analyze the data features, check for NaN values. \n",
    "About the data: __\n",
    "\n",
    "1. __TimesPregnant__: Number of times pregnant \n",
    "2. __glucoseLevel__: Plasma glucose concentration a 2 hours in an oral glucose tolerance test \n",
    "3. __BP__: Diastolic blood pressure (mm Hg)  \n",
    "5. __insulin__: 2-Hour serum insulin (mu U/ml) \n",
    "6. __BMI__: Body mass index (weight in kg/(height in m)^2) \n",
    "7. __pedigree__: Diabetes pedigree function \n",
    "8. __Age__: Age (years) \n",
    "9. __IsDiabetic__: 0 if not diabetic or 1 if diabetic) \n",
    "\n",
    "__ 2. Preprocess data to replace NaN values in a feature(if any) using mean of the feature.  \n",
    "Train  logistic regression, SVM, perceptron, kNN, xgboost and random forest models using this preprocessed data with 20% test split.Report training and test accuracies.__\n",
    "\n",
    "\n",
    "\n",
    "\n",
    "\n"
   ]
  },
  {
   "cell_type": "code",
   "execution_count": 35,
   "metadata": {
    "collapsed": true
   },
   "outputs": [],
   "source": [
    "#replace NaN\n",
    "df_diabetes = pd.read_csv('diabetesdata.csv')\n",
    "df_diabetes['TimesPregnant'].fillna((df_diabetes['TimesPregnant'].mean()), inplace=True)\n",
    "df_diabetes['glucoseLevel'].fillna((df_diabetes['glucoseLevel'].mean()), inplace=True)\n",
    "df_diabetes['BP'].fillna((df_diabetes['BP'].mean()), inplace=True)\n",
    "df_diabetes['insulin'].fillna((df_diabetes['insulin'].mean()), inplace=True)\n",
    "df_diabetes['BMI'].fillna((df_diabetes['BMI'].mean()), inplace=True)\n",
    "df_diabetes['Pedigree'].fillna((df_diabetes['Pedigree'].mean()), inplace=True)\n",
    "df_diabetes['Age'].fillna((df_diabetes['Age'].mean()), inplace=True)\n",
    "df_diabetes['IsDiabetic'].fillna((df_diabetes['IsDiabetic'].mean()), inplace=True)\n",
    "df_train1 = df_diabetes.sample(frac=0.8, random_state=1)\n",
    "df_test1 = df_diabetes.loc[~df_energy.index.isin(df_train.index)]\n",
    "x_train1=df_train1[['TimesPregnant','glucoseLevel','BP','insulin','BMI','Pedigree','Age']]\n",
    "y_train1=df_train1['IsDiabetic']\n",
    "x_test1=df_test1[['TimesPregnant','glucoseLevel','BP','insulin','BMI','Pedigree','Age']]\n",
    "y_test1=df_test1['IsDiabetic']"
   ]
  },
  {
   "cell_type": "code",
   "execution_count": 36,
   "metadata": {
    "collapsed": true
   },
   "outputs": [],
   "source": [
    "from sklearn import datasets\n",
    "from sklearn import svm\n",
    "from sklearn.linear_model import LogisticRegression\n",
    "from sklearn.svm import SVC, LinearSVC\n",
    "from sklearn.ensemble import RandomForestClassifier\n",
    "from sklearn.neighbors import KNeighborsClassifier\n",
    "from sklearn.naive_bayes import GaussianNB # Gaussian Naive Bays\n",
    "from sklearn.linear_model import Perceptron\n",
    "from sklearn.linear_model import SGDClassifier #stochastic gradient descent\n",
    "from sklearn.tree import DecisionTreeClassifier\n",
    "import xgboost as xgb"
   ]
  },
  {
   "cell_type": "code",
   "execution_count": 37,
   "metadata": {},
   "outputs": [
    {
     "name": "stdout",
     "output_type": "stream",
     "text": [
      "77.85\n",
      "76.52\n"
     ]
    }
   ],
   "source": [
    "#logistic regression\n",
    "lg = LogisticRegression()\n",
    "lg.fit(x_train1, y_train1)\n",
    "y_lg_pred_train = lg.predict(x_train1)\n",
    "y_lg_pred_test = lg.predict(x_test1)\n",
    "acc_train_lg = round(lg.score(x_train1, y_train1) * 100, 2) \n",
    "acc_test_lg = round(lg.score(x_test1, y_test1) * 100, 2) \n",
    "print(acc_train_lg)\n",
    "print(acc_test_lg)"
   ]
  },
  {
   "cell_type": "code",
   "execution_count": 38,
   "metadata": {},
   "outputs": [
    {
     "name": "stdout",
     "output_type": "stream",
     "text": [
      "100.0\n",
      "63.48\n"
     ]
    }
   ],
   "source": [
    "#logistic regression\n",
    "svc = svm.SVC()\n",
    "svc.fit(x_train1, y_train1)\n",
    "y_lg_pred_train = svc.predict(x_train1)\n",
    "y_lg_pred_test = svc.predict(x_test1)\n",
    "acc_train_lg = round(svc.score(x_train1, y_train1) * 100, 2) \n",
    "acc_test_lg = round(svc.score(x_test1, y_test1) * 100, 2) \n",
    "print(acc_train_lg)\n",
    "print(acc_test_lg)"
   ]
  },
  {
   "cell_type": "code",
   "execution_count": 39,
   "metadata": {},
   "outputs": [
    {
     "name": "stdout",
     "output_type": "stream",
     "text": [
      "34.36\n",
      "37.39\n"
     ]
    },
    {
     "name": "stderr",
     "output_type": "stream",
     "text": [
      "/Users/ran/anaconda2/envs/py3/lib/python3.6/site-packages/sklearn/linear_model/stochastic_gradient.py:128: FutureWarning: max_iter and tol parameters have been added in <class 'sklearn.linear_model.perceptron.Perceptron'> in 0.19. If both are left unset, they default to max_iter=5 and tol=None. If tol is not None, max_iter defaults to max_iter=1000. From 0.21, default max_iter will be 1000, and default tol will be 1e-3.\n",
      "  \"and default tol will be 1e-3.\" % type(self), FutureWarning)\n"
     ]
    }
   ],
   "source": [
    "#perceptron\n",
    "perceptron = Perceptron()\n",
    "perceptron.fit(x_train1, y_train1)\n",
    "y_perceptron_pred_train = perceptron.predict(x_train1)\n",
    "y_perceptron_pred_test = perceptron.predict(x_test1)\n",
    "acc_train_perceptron = round(perceptron.score(x_train1, y_train1) * 100, 2) \n",
    "acc_test_perceptron = round(perceptron.score(x_test1, y_test1) * 100, 2) \n",
    "print(acc_train_perceptron)\n",
    "print(acc_test_perceptron)\n",
    "# When I change python2 to python3, the warning messgae keeps showing up and I don't know if it has anything to do with the result,\n",
    "# which is quite low comparing to other models. I have cleared output and re-run for several times, the result stays same"
   ]
  },
  {
   "cell_type": "code",
   "execution_count": 40,
   "metadata": {},
   "outputs": [
    {
     "name": "stdout",
     "output_type": "stream",
     "text": [
      "86.32\n",
      "72.17\n"
     ]
    }
   ],
   "source": [
    "#kNN\n",
    "knn = KNeighborsClassifier(n_neighbors = 3)\n",
    "knn.fit(x_train1, y_train1)\n",
    "y_knn_pred_train = knn.predict(x_train1)\n",
    "y_knn_pred_test = knn.predict(x_test1)\n",
    "acc_train_knn = round(knn.score(x_train1, y_train1) * 100, 2) \n",
    "acc_test_knn = round(knn.score(x_test1, y_test1) * 100, 2) \n",
    "print(acc_train_knn)\n",
    "print(acc_test_knn)"
   ]
  },
  {
   "cell_type": "code",
   "execution_count": 41,
   "metadata": {
    "scrolled": true
   },
   "outputs": [
    {
     "name": "stdout",
     "output_type": "stream",
     "text": [
      "100.0\n",
      "74.78\n"
     ]
    }
   ],
   "source": [
    "#xgboost\n",
    "xgboost = xgb.XGBClassifier(n_estimators=1000)\n",
    "xgboost.fit(x_train1, y_train1)\n",
    "y__xgboost_train = xgboost.predict(x_train1)\n",
    "y_xgboost_pred_test = xgboost.predict(x_test1)\n",
    "acc_train_xgboost = round(xgboost.score(x_train1, y_train1) * 100, 2) \n",
    "acc_test_xgboost = round(xgboost.score(x_test1, y_test1) * 100, 2) \n",
    "print(acc_train_xgboost)\n",
    "print(acc_test_xgboost)"
   ]
  },
  {
   "cell_type": "code",
   "execution_count": 42,
   "metadata": {},
   "outputs": [
    {
     "name": "stdout",
     "output_type": "stream",
     "text": [
      "100.0\n",
      "71.3\n"
     ]
    }
   ],
   "source": [
    "#random forest\n",
    "rf = RandomForestClassifier(n_estimators=1000)\n",
    "rf.fit(x_train1, y_train1)\n",
    "y__rf_train = rf.predict(x_train1)\n",
    "y_rf_pred_test = rf.predict(x_test1)\n",
    "acc_train_rf = round(rf.score(x_train1, y_train1) * 100, 2) \n",
    "acc_test_rf = round(rf.score(x_test1, y_test1) * 100, 2) \n",
    "print(acc_train_rf)\n",
    "print(acc_test_rf)"
   ]
  },
  {
   "cell_type": "markdown",
   "metadata": {},
   "source": [
    "\n",
    "\n",
    "__3. What is the  ratio of diabetic persons in 3 equirange bands of 'BMI' and 'Pedigree' in the provided dataset.__\n",
    "\n",
    " __Convert these features - 'BP','insulin','BMI' and 'Pedigree'   into categorical values by mapping different bands of values of these features to integers 0,1,2.__  \n",
    " \n",
    "HINT: USE pd.cut with bin=3 to create 3 bins\n",
    "\n",
    "\n",
    "\n",
    "\n"
   ]
  },
  {
   "cell_type": "code",
   "execution_count": 43,
   "metadata": {},
   "outputs": [
    {
     "data": {
      "text/html": [
       "<div>\n",
       "<style>\n",
       "    .dataframe thead tr:only-child th {\n",
       "        text-align: right;\n",
       "    }\n",
       "\n",
       "    .dataframe thead th {\n",
       "        text-align: left;\n",
       "    }\n",
       "\n",
       "    .dataframe tbody tr th {\n",
       "        vertical-align: top;\n",
       "    }\n",
       "</style>\n",
       "<table border=\"1\" class=\"dataframe\">\n",
       "  <thead>\n",
       "    <tr style=\"text-align: right;\">\n",
       "      <th></th>\n",
       "      <th>BP_df</th>\n",
       "      <th>insulin_df</th>\n",
       "      <th>BMI_df</th>\n",
       "      <th>Pedigree_df</th>\n",
       "    </tr>\n",
       "  </thead>\n",
       "  <tbody>\n",
       "    <tr>\n",
       "      <th>0</th>\n",
       "      <td>1</td>\n",
       "      <td>0</td>\n",
       "      <td>1</td>\n",
       "      <td>0</td>\n",
       "    </tr>\n",
       "    <tr>\n",
       "      <th>1</th>\n",
       "      <td>1</td>\n",
       "      <td>0</td>\n",
       "      <td>1</td>\n",
       "      <td>0</td>\n",
       "    </tr>\n",
       "    <tr>\n",
       "      <th>2</th>\n",
       "      <td>1</td>\n",
       "      <td>0</td>\n",
       "      <td>1</td>\n",
       "      <td>0</td>\n",
       "    </tr>\n",
       "    <tr>\n",
       "      <th>3</th>\n",
       "      <td>1</td>\n",
       "      <td>0</td>\n",
       "      <td>1</td>\n",
       "      <td>0</td>\n",
       "    </tr>\n",
       "    <tr>\n",
       "      <th>4</th>\n",
       "      <td>0</td>\n",
       "      <td>0</td>\n",
       "      <td>1</td>\n",
       "      <td>2</td>\n",
       "    </tr>\n",
       "  </tbody>\n",
       "</table>\n",
       "</div>"
      ],
      "text/plain": [
       "  BP_df insulin_df BMI_df Pedigree_df\n",
       "0     1          0      1           0\n",
       "1     1          0      1           0\n",
       "2     1          0      1           0\n",
       "3     1          0      1           0\n",
       "4     0          0      1           2"
      ]
     },
     "execution_count": 43,
     "metadata": {},
     "output_type": "execute_result"
    }
   ],
   "source": [
    "df=pd.DataFrame()\n",
    "df['BP_df'] = pd.cut(df_diabetes['BP'], 3, labels=['0','1','2'])\n",
    "df['insulin_df'] = pd.cut(df_diabetes['insulin'],3, labels=['0','1','2'])\n",
    "df['BMI_df'] = pd.cut(df_diabetes['BMI'],3, labels=['0','1','2'])\n",
    "df['Pedigree_df'] = pd.cut(df_diabetes['Pedigree'],3, labels=['0','1','2'])\n",
    "df.head()"
   ]
  },
  {
   "cell_type": "markdown",
   "metadata": {},
   "source": [
    "\n",
    "__4. Now consider the original dataset again, instead of generalizing the NAN values with the mean of the feature we will try assigning values to NANs based on some hypothesis. For example for age we assume that the relation between BMI and BP of people is a reflection of the age group.We can have 9 types of BMI and BP relations and our aim is to find the median age of each of that group:__\n",
    "\n",
    "Your Age guess matrix will look like this:  \n",
    "\n",
    "| BMI | 0       | 1      | 2  |\n",
    "|-----|-------------|------------- |----- |\n",
    "| BP  |             |              |      |\n",
    "| 0   | a00         | a01          | a02  |\n",
    "| 1   | a10         | a11          | a12  |\n",
    "| 2   | a20         | a21          |  a22 |\n",
    "\n",
    "\n",
    "__Create a guess_matrix  for NaN values of *'Age'* ( using 'BMI' and 'BP')  and  *'glucoseLevel'*  (using 'BP' and 'Pedigree') for the given dataset and assign values accordingly to the NaNs in 'Age' or *'glucoseLevel'* .__\n",
    "\n",
    "\n",
    "Refer to how we guessed age in the titanic notebook in the class.\n",
    "\n"
   ]
  },
  {
   "cell_type": "code",
   "execution_count": 44,
   "metadata": {
    "collapsed": true
   },
   "outputs": [],
   "source": [
    "dataset = pd.read_csv('diabetesdata.csv')\n",
    "dataset.BP = pd.cut(dataset.BP, 3, labels=[0,1,2])\n",
    "dataset.BMI = pd.cut(dataset.BMI, 3, labels=[0,1,2])\n",
    "dataset.Pedigree = pd.cut(dataset.Pedigree, 3, labels=[0,1,2])\n",
    "\n",
    "data=[dataset]"
   ]
  },
  {
   "cell_type": "code",
   "execution_count": 45,
   "metadata": {},
   "outputs": [
    {
     "name": "stdout",
     "output_type": "stream",
     "text": [
      "Guess_Age table:\n",
      " [[24 25 55]\n",
      " [29 29 37]\n",
      " [33 32 31]]\n",
      "Guess_glucoseLevel table:\n",
      " [[115 127 137]\n",
      " [112 115 149]\n",
      " [133 129 159]]\n",
      "\n",
      "Assigning age and glucoseLevel values to NAN age and glucoseLevel values in the dataset...\n",
      "\n"
     ]
    },
    {
     "data": {
      "text/html": [
       "<div>\n",
       "<style>\n",
       "    .dataframe thead tr:only-child th {\n",
       "        text-align: right;\n",
       "    }\n",
       "\n",
       "    .dataframe thead th {\n",
       "        text-align: left;\n",
       "    }\n",
       "\n",
       "    .dataframe tbody tr th {\n",
       "        vertical-align: top;\n",
       "    }\n",
       "</style>\n",
       "<table border=\"1\" class=\"dataframe\">\n",
       "  <thead>\n",
       "    <tr style=\"text-align: right;\">\n",
       "      <th></th>\n",
       "      <th>TimesPregnant</th>\n",
       "      <th>glucoseLevel</th>\n",
       "      <th>BP</th>\n",
       "      <th>insulin</th>\n",
       "      <th>BMI</th>\n",
       "      <th>Pedigree</th>\n",
       "      <th>Age</th>\n",
       "      <th>IsDiabetic</th>\n",
       "    </tr>\n",
       "  </thead>\n",
       "  <tbody>\n",
       "    <tr>\n",
       "      <th>0</th>\n",
       "      <td>6</td>\n",
       "      <td>148</td>\n",
       "      <td>1</td>\n",
       "      <td>0</td>\n",
       "      <td>1</td>\n",
       "      <td>0</td>\n",
       "      <td>50</td>\n",
       "      <td>1</td>\n",
       "    </tr>\n",
       "    <tr>\n",
       "      <th>1</th>\n",
       "      <td>1</td>\n",
       "      <td>112</td>\n",
       "      <td>1</td>\n",
       "      <td>0</td>\n",
       "      <td>1</td>\n",
       "      <td>0</td>\n",
       "      <td>31</td>\n",
       "      <td>0</td>\n",
       "    </tr>\n",
       "    <tr>\n",
       "      <th>2</th>\n",
       "      <td>8</td>\n",
       "      <td>183</td>\n",
       "      <td>1</td>\n",
       "      <td>0</td>\n",
       "      <td>1</td>\n",
       "      <td>0</td>\n",
       "      <td>29</td>\n",
       "      <td>1</td>\n",
       "    </tr>\n",
       "    <tr>\n",
       "      <th>3</th>\n",
       "      <td>1</td>\n",
       "      <td>112</td>\n",
       "      <td>1</td>\n",
       "      <td>94</td>\n",
       "      <td>1</td>\n",
       "      <td>0</td>\n",
       "      <td>21</td>\n",
       "      <td>0</td>\n",
       "    </tr>\n",
       "    <tr>\n",
       "      <th>4</th>\n",
       "      <td>0</td>\n",
       "      <td>137</td>\n",
       "      <td>0</td>\n",
       "      <td>168</td>\n",
       "      <td>1</td>\n",
       "      <td>2</td>\n",
       "      <td>33</td>\n",
       "      <td>1</td>\n",
       "    </tr>\n",
       "  </tbody>\n",
       "</table>\n",
       "</div>"
      ],
      "text/plain": [
       "   TimesPregnant  glucoseLevel BP  insulin BMI Pedigree  Age  IsDiabetic\n",
       "0              6           148  1        0   1        0   50           1\n",
       "1              1           112  1        0   1        0   31           0\n",
       "2              8           183  1        0   1        0   29           1\n",
       "3              1           112  1       94   1        0   21           0\n",
       "4              0           137  0      168   1        2   33           1"
      ]
     },
     "execution_count": 45,
     "metadata": {},
     "output_type": "execute_result"
    }
   ],
   "source": [
    "guess_ages = np.zeros((3,3),dtype=int)\n",
    "guess_gl = np.zeros((3,3),dtype=int)\n",
    "                    \n",
    "for i in range(0, 3):\n",
    "    for j in range(0,3):\n",
    "        guess_df_age = dataset[(dataset['BMI'] == i) \\\n",
    "                    &(dataset['BP'] == j)]['Age'].dropna()\n",
    "        guess_df_gl = dataset[(dataset['BP'] == i) \\\n",
    "                    &(dataset['Pedigree'] == j)]['glucoseLevel'].dropna()\n",
    "            # Extract the median age for this group\n",
    "            # (less sensitive) to outliers\n",
    "        age_guess = guess_df_age.median()\n",
    "        gl_guess = guess_df_gl.median()\n",
    "            # Convert random age float to int\n",
    "        guess_ages[i,j] = int(age_guess)\n",
    "        guess_gl[i,j] = int(gl_guess)\n",
    "        \n",
    "print('Guess_Age table:\\n',guess_ages)\n",
    "print('Guess_glucoseLevel table:\\n',guess_gl)\n",
    "print ('\\nAssigning age and glucoseLevel values to NAN age and glucoseLevel values in the dataset...')\n",
    "    \n",
    "for i in range(0, 3):\n",
    "    for j in range(0, 3):\n",
    "        dataset.loc[ (dataset.Age.isnull()) & (dataset.BMI == i) \\\n",
    "                & (dataset.BP == j),'Age'] = guess_ages[i,j]\n",
    "        dataset.loc[ (dataset.glucoseLevel.isnull()) & (dataset.BP == i) \\\n",
    "                & (dataset.Pedigree == j),'glucoseLevel'] = guess_gl[i,j]                    \n",
    "\n",
    "dataset['Age'] = dataset['Age'].astype(int)\n",
    "dataset['glucoseLevel'] = dataset['glucoseLevel'].astype(int)\n",
    "print()\n",
    "dataset.head()"
   ]
  },
  {
   "cell_type": "markdown",
   "metadata": {},
   "source": [
    "\n",
    "\n",
    "__5. Now, convert 'glucoseLevel' and 'Age' features also to categorical variables of 5 categories each.__\n",
    "\n",
    "__Use this dataset (with all features in categorical form) to train perceptron, logistic regression and random forest models using 20% test split. Report training and test accuracies.__\n",
    "\n",
    "\n",
    "\n",
    "\n",
    "\n"
   ]
  },
  {
   "cell_type": "code",
   "execution_count": 46,
   "metadata": {
    "collapsed": true
   },
   "outputs": [],
   "source": [
    "dataset.Age = pd.cut(dataset.Age, 5, labels=[0,1,2,3,4])\n",
    "dataset.glucoseLevel = pd.cut(dataset.glucoseLevel, 5, labels=[0,1,2,3,4])\n",
    "x = dataset.drop(\"IsDiabetic\", axis=1) \n",
    "y = dataset[\"IsDiabetic\"]\n",
    "from sklearn.model_selection import train_test_split\n",
    "x_train1, x_test1, y_train1, y_test1 = train_test_split(x, y, test_size=0.20)"
   ]
  },
  {
   "cell_type": "code",
   "execution_count": 47,
   "metadata": {},
   "outputs": [
    {
     "name": "stdout",
     "output_type": "stream",
     "text": [
      "accuracy of train for logistic regression: 75.57\n",
      "accuracy of test for logistic regression: 77.27\n",
      "accuracy of train for Perceptron : 66.61\n",
      "accuracy of test for Perceptron : 70.13\n"
     ]
    },
    {
     "name": "stderr",
     "output_type": "stream",
     "text": [
      "/Users/ran/anaconda2/envs/py3/lib/python3.6/site-packages/sklearn/linear_model/stochastic_gradient.py:128: FutureWarning: max_iter and tol parameters have been added in <class 'sklearn.linear_model.perceptron.Perceptron'> in 0.19. If both are left unset, they default to max_iter=5 and tol=None. If tol is not None, max_iter defaults to max_iter=1000. From 0.21, default max_iter will be 1000, and default tol will be 1e-3.\n",
      "  \"and default tol will be 1e-3.\" % type(self), FutureWarning)\n"
     ]
    },
    {
     "name": "stdout",
     "output_type": "stream",
     "text": [
      "accuracy of train for randomforest : 95.28\n",
      "accuracy of test for randomforest : 75.32\n"
     ]
    }
   ],
   "source": [
    "#logistic regression\n",
    "lg = LogisticRegression()\n",
    "lg.fit(x_train1, y_train1)\n",
    "y_lg_pred_train = lg.predict(x_train1)\n",
    "y_lg_pred_test = lg.predict(x_test1)\n",
    "acc_train_lg = round(lg.score(x_train1, y_train1) * 100, 2) \n",
    "acc_test_lg = round(lg.score(x_test1, y_test1) * 100, 2) \n",
    "print('accuracy of train for logistic regression:', acc_train_lg)\n",
    "print('accuracy of test for logistic regression:', acc_test_lg)\n",
    "\n",
    "#perceptron\n",
    "perceptron = Perceptron()\n",
    "perceptron.fit(x_train1, y_train1)\n",
    "y_perceptron_pred_train = perceptron.predict(x_train1)\n",
    "y_perceptron_pred_test = perceptron.predict(x_test1)\n",
    "acc_train_perceptron = round(perceptron.score(x_train1, y_train1) * 100, 2) \n",
    "acc_test_perceptron = round(perceptron.score(x_test1, y_test1) * 100, 2) \n",
    "print('accuracy of train for Perceptron :', acc_train_perceptron)\n",
    "print('accuracy of test for Perceptron :', acc_test_perceptron)\n",
    "\n",
    "#random forest\n",
    "rf = RandomForestClassifier(n_estimators=1000)\n",
    "rf.fit(x_train1, y_train1)\n",
    "y__rf_train = rf.predict(x_train1)\n",
    "y_rf_pred_test = rf.predict(x_test1)\n",
    "acc_train_rf = round(rf.score(x_train1, y_train1) * 100, 2) \n",
    "acc_test_rf = round(rf.score(x_test1, y_test1) * 100, 2) \n",
    "print('accuracy of train for randomforest :',acc_train_rf)\n",
    "print('accuracy of test for randomforest :', acc_test_rf)"
   ]
  },
  {
   "cell_type": "markdown",
   "metadata": {},
   "source": []
  },
  {
   "cell_type": "markdown",
   "metadata": {},
   "source": [
    "### Part 3\n",
    "\n",
    "1. __Derive the expression for the optimal parameters in the linear regression equation, i.e. solve the normal equation for Ordinary Least Squares for the case of Simple Linear Regression, when we only have one input and one output__\n",
    "\n",
    "Given a set of _n_ points $(X_i,Y_i)$ where $Yi$ is dependent on $Xi$ by a linear relation,  find the best-fit line,$$Z_i = {aX_i + b}$$  that minimizes the __sum of squared errors in Y__,i.e: $$minimize \\sum_{i}{(Y_i- Z_i)^2}$$\n",
    "__i. __ Show that $$ intercept \\quad b = \\overline{Y}-  a.\\overline{X}\\quad  and   \\quad slope \\quad a= \\frac{\\sum_{i}(X_i- \\overline{X})\u0001(Y_i- \\overline{Y})^2}{ \\sum_{i}(X_i- \\overline{X})}$$\n",
    "\n",
    "\n",
    " where $\\overline{X}$ and  $\\overline{Y}$ are the averages of the X values and the Y values, respectively.\n",
    " \n",
    "__ ii. __Show that slope _a_ can be written as $ a = r.(S_y /S_x)$ where $S_y$  = the standard deviation of the Y values and $S_x$= the standard deviation of the X values and _r_ is the correlation coefficient.\n",
    "\n",
    "##### Please try to write a nice LateXed version of your answer, and do the derivations of the expressions as nicely as possible\n",
    "\n",
    "\n",
    "_____"
   ]
  },
  {
   "cell_type": "markdown",
   "metadata": {},
   "source": []
  },
  {
   "cell_type": "markdown",
   "metadata": {
    "collapsed": true
   },
   "source": [
    "i. \n",
    "Given a set of n points ($X_i$,$Y_i$) where $Y_i$ is dependent on $X_i$ by a linear relation, find the best-fit line,\n",
    "$Z_i$=aX_i+b$\n",
    "\n",
    "To that minimizes the sum of squared errors in Y,i.e:\n",
    "\\begin{equation}\n",
    "minimize\\sum_i{(Y_i-Z_i)^2}\n",
    "\\end{equation}\n",
    "\n",
    "Suppose $SSE=min\\sum_i{(Y_i-Z_i)^2}$\n",
    "\n",
    "let $\\frac{\\partial SSE}{\\partial b}=\\sum{(2b-2(Y_i-aX_i))}$=$2nb-2\\sum(X_i)$=$2nb=2n\\bar Y+2an\\bar X$=0\n",
    "\n",
    "We can get\n",
    "\\begin{equation}\n",
    "a=\\frac{\\sum(Y_i-\\bar Y)(X_i-\\bar X)}{\\sum(X_i-\\bar X)^2}\n",
    "\\end{equation}\n",
    "\n",
    "ii.\n",
    "\n",
    "$a=r.(\\frac{S_y}{S_x})=\\frac{cov(x,y)}{S_y.S_x}*\\frac{cov(x,y)}{Var(x)}=\\frac{n.cov(x,y)}{n.Var(x)}=\\frac{\\sum(Y_i-\\bar Y)(X_i-\\bar X)}{\\sum(X_i-\\bar X)^2}$"
   ]
  },
  {
   "cell_type": "markdown",
   "metadata": {},
   "source": [
    "# Two Extra Credit Points: Fun with Webscraping & Text manipulation\n",
    "### (Mandatory for Grad students!)"
   ]
  },
  {
   "cell_type": "markdown",
   "metadata": {},
   "source": [
    "<div class='alert alert-info'> `NOTE:` **If you are a Graduate Section student (enrolled in 290), the Extra Credit Questions are mandatory.**</div>"
   ]
  },
  {
   "cell_type": "markdown",
   "metadata": {
    "collapsed": true
   },
   "source": [
    "## 1. Statistics in Presidential Debates\n",
    "\n",
    "Your first task is to scrape Presidential Debates from the Commission of Presidential Debates website: http://www.debates.org/index.php?page=debate-transcripts.\n",
    "\n",
    "To do this, you are not allowed to manually look up the URLs that you need, instead you have to scrape them. The root url to be scraped is the one listed above, namely: http://www.presidency.ucsb.edu/debates.php\n",
    "\n",
    "\n",
    "1. By using `requests` and `BeautifulSoup` find all the links / URLs on the website that links to transcriptions of **First Presidential Debates** from the years [2012, 2008, 2004, 2000, 1996, 1988, 1984, 1976, 1960]. In total you should find 9 links / URLs tat fulfill this criteria.\n",
    "2. When you have a list of the URLs your task is to create a Data Frame with some statistics (see example of output below):\n",
    "    1. Scrape the title of each link and use that as the column name in your Data Frame. \n",
    "    2. Count how long the transcript of the debate is (as in the number of characters in transcription string). Feel free to include `\\` characters in your count, but remove any breakline characters, i.e. `\\n`. You will get credit if your count is +/- 10% from our result.\n",
    "    3. Count how many times the word **war** was used in the different debates. Note that you have to convert the text in a smart way (to not count the word **warranty** for example, but counting **war.**, **war!**, **war,** or **War** etc.\n",
    "    4. Also scrape the most common used word in the debate, and write how many times it was used. Note that you have to use the same strategy as in 3 in order to do this.\n",
    "    \n",
    "**Tips:**\n",
    "\n",
    "___\n",
    "\n",
    "In order to solve question 3 and 4 above it can be useful to work with Regular Expressions and explore methods on strings like `.strip(), .replace(), .find(), .count(), .lower()` etc. Both are very powerful tools to do string processing in Python. To count common words for example I used a `Counter` object and a Regular expression pattern for only words, see example:\n",
    "\n",
    "```python\n",
    "    from collections import Counter\n",
    "    import re\n",
    "\n",
    "    counts = Counter(re.findall(r\"[\\w']+\", text.lower()))\n",
    "```\n",
    "\n",
    "Read more about Regular Expressions here: https://docs.python.org/3/howto/regex.html\n",
    "    \n",
    "    \n",
    "**Example output of all of the answers to EC Question 1:**\n",
    "\n",
    "\n",
    "![pres_stats](https://github.com/ikhlaqsidhu/data-x/raw/master/x-archive/misc/hw2_imgs_spring2018/president_stats.png)\n",
    "\n",
    "\n",
    "\n",
    "\n",
    "----\n",
    "\n",
    ".\n",
    "\n",
    "\n"
   ]
  },
  {
   "cell_type": "code",
   "execution_count": 48,
   "metadata": {},
   "outputs": [
    {
     "data": {
      "text/html": [
       "<style>.container { width:90% !important; }</style>"
      ],
      "text/plain": [
       "<IPython.core.display.HTML object>"
      ]
     },
     "metadata": {},
     "output_type": "display_data"
    }
   ],
   "source": [
    "from IPython.core.display import display, HTML\n",
    "display(HTML(\"<style>.container { width:90% !important; }</style>\")) \n",
    "from __future__ import division, print_function\n",
    "import pandas as pd\n",
    "import numpy as np\n",
    "import requests \n",
    "import bs4 as bs\n",
    "from bs4 import BeautifulSoup\n",
    "from collections import Counter\n",
    "import re\n",
    "import lxml.html\n",
    "import urllib\n",
    "import html5lib"
   ]
  },
  {
   "cell_type": "code",
   "execution_count": 49,
   "metadata": {},
   "outputs": [
    {
     "name": "stdout",
     "output_type": "stream",
     "text": [
      "Info aboutOctober 3, 2012: The First Obama-Romney Presidential Debate: http://www.debates.org/index.php?page=october-3-2012-debate-transcript\n",
      "Info aboutSeptember 26, 2008: The First McCain-Obama Presidential Debate: http://www.debates.org/index.php?page=2008-debate-transcript\n",
      "Info aboutSeptember 30, 2004: The First Bush-Kerry Presidential Debate: http://www.debates.org/index.php?page=september-30-2004-debate-transcript\n",
      "Info aboutOctober 3, 2000: The First Gore-Bush Presidential Debate: http://www.debates.org/index.php?page=october-3-2000-transcript\n",
      "Info aboutOctober 6, 1996: The First Clinton-Dole Presidential Debate: http://www.debates.org/index.php?page=october-6-1996-debate-transcript\n",
      "Info aboutSeptember 25, 1988: The First Bush-Dukakis Presidential Debate: http://www.debates.org/index.php?page=september-25-1988-debate-transcript\n",
      "Info aboutOctober 7, 1984: The First Reagan-Mondale Presidential Debate: http://www.debates.org/index.php?page=october-7-1984-debate-transcript\n",
      "Info aboutSeptember 23, 1976: The First Carter-Ford Presidential Debate: http://www.debates.org/index.php?page=september-23-1976-debate-transcript\n",
      "Info aboutSeptember 26, 1960: The First Kennedy-Nixon Presidential Debate: http://www.debates.org/index.php?page=september-26-1960-debate-transcript\n",
      "['http://www.debates.org/index.php?page=october-3-2012-debate-transcript', 'http://www.debates.org/index.php?page=2008-debate-transcript', 'http://www.debates.org/index.php?page=september-30-2004-debate-transcript', 'http://www.debates.org/index.php?page=october-3-2000-transcript', 'http://www.debates.org/index.php?page=october-6-1996-debate-transcript', 'http://www.debates.org/index.php?page=september-25-1988-debate-transcript', 'http://www.debates.org/index.php?page=october-7-1984-debate-transcript', 'http://www.debates.org/index.php?page=september-23-1976-debate-transcript', 'http://www.debates.org/index.php?page=september-26-1960-debate-transcript']\n"
     ]
    }
   ],
   "source": [
    "#jy\n",
    "source = requests.get('http://www.debates.org/index.php?page=debate-transcripts').content \n",
    "soup = bs.BeautifulSoup(source,'html.parser')\n",
    "links=soup.find_all('a')\n",
    "contents=[]\n",
    "urls=[]\n",
    "for i in links:\n",
    "    if ('First'in i.text) & ('Presidential'in i.text) & ('Debate'in i.text):\n",
    "        print(\"Info about{}:\".format(i.text),i.get('href'))\n",
    "        contents.append(i.text)\n",
    "        urls.append(i.get('href'))\n",
    "print(urls)"
   ]
  },
  {
   "cell_type": "code",
   "execution_count": 50,
   "metadata": {},
   "outputs": [
    {
     "name": "stderr",
     "output_type": "stream",
     "text": [
      "/Users/ran/anaconda2/envs/py3/lib/python3.6/site-packages/bs4/__init__.py:181: UserWarning: No parser was explicitly specified, so I'm using the best available HTML parser for this system (\"lxml\"). This usually isn't a problem, but if you run this code on another system, or in a different virtual environment, it may use a different parser and behave differently.\n",
      "\n",
      "The code that caused this warning is on line 193 of the file /Users/ran/anaconda2/envs/py3/lib/python3.6/runpy.py. To get rid of this warning, change code that looks like this:\n",
      "\n",
      " BeautifulSoup(YOUR_MARKUP})\n",
      "\n",
      "to this:\n",
      "\n",
      " BeautifulSoup(YOUR_MARKUP, \"lxml\")\n",
      "\n",
      "  markup_type=markup_type))\n"
     ]
    },
    {
     "data": {
      "text/html": [
       "<div>\n",
       "<style>\n",
       "    .dataframe thead tr:only-child th {\n",
       "        text-align: right;\n",
       "    }\n",
       "\n",
       "    .dataframe thead th {\n",
       "        text-align: left;\n",
       "    }\n",
       "\n",
       "    .dataframe tbody tr th {\n",
       "        vertical-align: top;\n",
       "    }\n",
       "</style>\n",
       "<table border=\"1\" class=\"dataframe\">\n",
       "  <thead>\n",
       "    <tr style=\"text-align: right;\">\n",
       "      <th></th>\n",
       "      <th>October 3, 2012: The First Obama-Romney Presidential Debate</th>\n",
       "      <th>September 26, 2008: The First McCain-Obama Presidential Debate</th>\n",
       "      <th>September 30, 2004: The First Bush-Kerry Presidential Debate</th>\n",
       "      <th>October 3, 2000: The First Gore-Bush Presidential Debate</th>\n",
       "      <th>October 6, 1996: The First Clinton-Dole Presidential Debate</th>\n",
       "      <th>September 25, 1988: The First Bush-Dukakis Presidential Debate</th>\n",
       "      <th>October 7, 1984: The First Reagan-Mondale Presidential Debate</th>\n",
       "      <th>September 23, 1976: The First Carter-Ford Presidential Debate</th>\n",
       "      <th>September 26, 1960: The First Kennedy-Nixon Presidential Debate</th>\n",
       "    </tr>\n",
       "  </thead>\n",
       "  <tbody>\n",
       "    <tr>\n",
       "      <th>Debate char length</th>\n",
       "      <td>94594</td>\n",
       "      <td>182386</td>\n",
       "      <td>82685</td>\n",
       "      <td>91040</td>\n",
       "      <td>93057</td>\n",
       "      <td>87458</td>\n",
       "      <td>86654</td>\n",
       "      <td>80701</td>\n",
       "      <td>60901</td>\n",
       "    </tr>\n",
       "    <tr>\n",
       "      <th>war_count</th>\n",
       "      <td>3</td>\n",
       "      <td>44</td>\n",
       "      <td>64</td>\n",
       "      <td>11</td>\n",
       "      <td>14</td>\n",
       "      <td>8</td>\n",
       "      <td>2</td>\n",
       "      <td>7</td>\n",
       "      <td>3</td>\n",
       "    </tr>\n",
       "    <tr>\n",
       "      <th>most_common_w</th>\n",
       "      <td>the</td>\n",
       "      <td>the</td>\n",
       "      <td>the</td>\n",
       "      <td>the</td>\n",
       "      <td>the</td>\n",
       "      <td>the</td>\n",
       "      <td>the</td>\n",
       "      <td>the</td>\n",
       "      <td>the</td>\n",
       "    </tr>\n",
       "    <tr>\n",
       "      <th>most_common_w_count</th>\n",
       "      <td>757</td>\n",
       "      <td>1470</td>\n",
       "      <td>857</td>\n",
       "      <td>919</td>\n",
       "      <td>876</td>\n",
       "      <td>803</td>\n",
       "      <td>865</td>\n",
       "      <td>856</td>\n",
       "      <td>778</td>\n",
       "    </tr>\n",
       "  </tbody>\n",
       "</table>\n",
       "</div>"
      ],
      "text/plain": [
       "                    October 3, 2012: The First Obama-Romney Presidential Debate  \\\n",
       "Debate char length                                               94594            \n",
       "war_count                                                            3            \n",
       "most_common_w                                                      the            \n",
       "most_common_w_count                                                757            \n",
       "\n",
       "                    September 26, 2008: The First McCain-Obama Presidential Debate  \\\n",
       "Debate char length                                              182386               \n",
       "war_count                                                           44               \n",
       "most_common_w                                                      the               \n",
       "most_common_w_count                                               1470               \n",
       "\n",
       "                    September 30, 2004: The First Bush-Kerry Presidential Debate  \\\n",
       "Debate char length                                               82685             \n",
       "war_count                                                           64             \n",
       "most_common_w                                                      the             \n",
       "most_common_w_count                                                857             \n",
       "\n",
       "                    October 3, 2000: The First Gore-Bush Presidential Debate  \\\n",
       "Debate char length                                               91040         \n",
       "war_count                                                           11         \n",
       "most_common_w                                                      the         \n",
       "most_common_w_count                                                919         \n",
       "\n",
       "                    October 6, 1996: The First Clinton-Dole Presidential Debate  \\\n",
       "Debate char length                                               93057            \n",
       "war_count                                                           14            \n",
       "most_common_w                                                      the            \n",
       "most_common_w_count                                                876            \n",
       "\n",
       "                    September 25, 1988: The First Bush-Dukakis Presidential Debate  \\\n",
       "Debate char length                                               87458               \n",
       "war_count                                                            8               \n",
       "most_common_w                                                      the               \n",
       "most_common_w_count                                                803               \n",
       "\n",
       "                    October 7, 1984: The First Reagan-Mondale Presidential Debate  \\\n",
       "Debate char length                                               86654              \n",
       "war_count                                                            2              \n",
       "most_common_w                                                      the              \n",
       "most_common_w_count                                                865              \n",
       "\n",
       "                    September 23, 1976: The First Carter-Ford Presidential Debate  \\\n",
       "Debate char length                                               80701              \n",
       "war_count                                                            7              \n",
       "most_common_w                                                      the              \n",
       "most_common_w_count                                                856              \n",
       "\n",
       "                    September 26, 1960: The First Kennedy-Nixon Presidential Debate  \n",
       "Debate char length                                               60901               \n",
       "war_count                                                            3               \n",
       "most_common_w                                                      the               \n",
       "most_common_w_count                                                778               "
      ]
     },
     "execution_count": 50,
     "metadata": {},
     "output_type": "execute_result"
    }
   ],
   "source": [
    "entries = None\n",
    "\n",
    "for link in urls:\n",
    "    debate = requests.get(link)\n",
    "    debate = debate.content\n",
    "    debate = BeautifulSoup(debate)\n",
    "    debate_content = debate.find(\"div\", {\"id\": \"content-sm\"})\n",
    "    debate_content = debate_content.find_all(\"p\")\n",
    "\n",
    "    text = None\n",
    "    for content in debate_content:\n",
    "        if (text!=None):\n",
    "            text = text + content.text\n",
    "        else:\n",
    "            text = content.text\n",
    "\n",
    "\n",
    "    text = text.replace(\"\\n\", \"\").replace(\"\\'\", \"'\")\n",
    "    # print(len(text))\n",
    "    counts = Counter(re.findall(r\"[\\w']+\", text.lower()))\n",
    "    # print(counts.most_common()[0])\n",
    "    # print(counts[\"war\"])\n",
    "\n",
    "    # entry = [headings[0]]\n",
    "    entry = [len(text)]\n",
    "    entry.append(counts[\"war\"])\n",
    "    entry.append(counts.most_common()[0][0])\n",
    "    entry.append(counts.most_common()[0][1])\n",
    "    \n",
    "    if (entries!=None):\n",
    "        entries.append(entry)\n",
    "    else:\n",
    "        entries = [entry]\n",
    "\n",
    "entries\n",
    "row_names = [\"Debate char length\", \"war_count\", \"most_common_w\", \"most_common_w_count\"]\n",
    "\n",
    "df = pd.DataFrame(entries, index=contents, columns=row_names )\n",
    "df = df.T\n",
    "df"
   ]
  },
  {
   "cell_type": "markdown",
   "metadata": {},
   "source": [
    "    \n",
    "## 2. Download and read in specific line from many data sets\n",
    "\n",
    "Scrape the first 27 data sets from this URL http://people.sc.fsu.edu/~jburkardt/datasets/regression/ (i.e.`x01.txt` - `x27.txt`). Then, save the 5th line in each data set, this should be the name of the data set author (get rid of the `#` symbol, the white spaces and the comma at the end). \n",
    "\n",
    "Count how many times (with a Python function) each author is the reference for one of the 27 data sets. Showcase your results, sorted, with the most common author name first and how many times he appeared in data sets. Use a Pandas DataFrame to show your results, see example.\n",
    "\n",
    "**Example output of the answer EC Question 2:**\n",
    "\n",
    "![author_stats](https://github.com/ikhlaqsidhu/data-x/raw/master/x-archive/misc/hw2_imgs_spring2018/data_authors.png)\n"
   ]
  },
  {
   "cell_type": "code",
   "execution_count": 54,
   "metadata": {
    "scrolled": false
   },
   "outputs": [
    {
     "name": "stdout",
     "output_type": "stream",
     "text": [
      "['01', '02', '03', '04', '05', '06', '07', '08', '09', '10', '11', '12', '13', '14', '15', '16', '17', '18', '19', '20', '21', '22', '23', '24', '25', '26', '27']\n"
     ]
    },
    {
     "name": "stderr",
     "output_type": "stream",
     "text": [
      "/Users/ran/anaconda2/envs/py3/lib/python3.6/site-packages/bs4/__init__.py:181: UserWarning: No parser was explicitly specified, so I'm using the best available HTML parser for this system (\"lxml\"). This usually isn't a problem, but if you run this code on another system, or in a different virtual environment, it may use a different parser and behave differently.\n",
      "\n",
      "The code that caused this warning is on line 193 of the file /Users/ran/anaconda2/envs/py3/lib/python3.6/runpy.py. To get rid of this warning, change code that looks like this:\n",
      "\n",
      " BeautifulSoup(YOUR_MARKUP})\n",
      "\n",
      "to this:\n",
      "\n",
      " BeautifulSoup(YOUR_MARKUP, \"lxml\")\n",
      "\n",
      "  markup_type=markup_type))\n"
     ]
    },
    {
     "name": "stdout",
     "output_type": "stream",
     "text": [
      "['#    Helmut Spaeth,']\n",
      "['#    Helmut Spaeth,']\n",
      "['#    Helmut Spaeth,']\n",
      "['#    Helmut Spaeth,']\n",
      "['#    Helmut Spaeth,']\n",
      "['#    R J Freund', 'P D Minton,']\n",
      "['#    D G Kleinbaum', 'L L Kupper,']\n",
      "['#    Helmut Spaeth,']\n",
      "['#    D G Kleinbaum', 'L L Kupper,']\n",
      "['#    K A Brownlee,']\n",
      "['#    Helmut Spaeth,']\n",
      "['#    Helmut Spaeth,']\n",
      "['#    S Chatterjee', 'B Price,']\n",
      "['#    Helmut Spaeth,']\n",
      "['#    Helmut Spaeth,']\n",
      "['#    Helmut Spaeth,']\n",
      "['#    Helmut Spaeth,']\n",
      "['#    Helmut Spaeth,']\n",
      "['#    R J Freund', 'P D Minton,']\n",
      "['#    Helmut Spaeth,']\n",
      "['#    Helmut Spaeth,']\n",
      "['#    Helmut Spaeth,']\n",
      "['#    S Chatterjee', 'B Price,']\n",
      "['#    S Chatterjee', 'B Price,']\n",
      "['#    S Chatterjee', 'B Price,']\n",
      "['#    S C Narula', 'J F Wellington,']\n",
      "['#    S C Narula', 'J F Wellington,']\n",
      "['Helmut Spaeth', 'Helmut Spaeth', 'Helmut Spaeth', 'Helmut Spaeth', 'Helmut Spaeth', 'R J Freund', 'P D Minton', 'D G Kleinbaum', 'L L Kupper', 'Helmut Spaeth', 'D G Kleinbaum', 'L L Kupper', 'K A Brownlee', 'Helmut Spaeth', 'Helmut Spaeth', 'S Chatterjee', 'B Price', 'Helmut Spaeth', 'Helmut Spaeth', 'Helmut Spaeth', 'Helmut Spaeth', 'Helmut Spaeth', 'R J Freund', 'P D Minton', 'Helmut Spaeth', 'Helmut Spaeth', 'Helmut Spaeth', 'S Chatterjee', 'B Price', 'S Chatterjee', 'B Price', 'S Chatterjee', 'B Price', 'S C Narula', 'J F Wellington', 'S C Narula', 'J F Wellington']\n",
      "Counter({'Helmut Spaeth': 16, 'S Chatterjee': 4, 'B Price': 4, 'R J Freund': 2, 'P D Minton': 2, 'D G Kleinbaum': 2, 'L L Kupper': 2, 'S C Narula': 2, 'J F Wellington': 2, 'K A Brownlee': 1})\n"
     ]
    }
   ],
   "source": [
    "datasets =[\"%02d\" % x for x in range(1,28)]\n",
    "print(datasets)\n",
    "authors = []\n",
    "for i in datasets:\n",
    "    result = requests.get(\"http://people.sc.fsu.edu/~jburkardt/datasets/regression/x\"+ format(i)+\".txt\")\n",
    "    soup = BeautifulSoup(result.content)\n",
    "    text = soup.find(\"p\").text.splitlines()\n",
    "    author = re.split(' and |, ',text[4])\n",
    "    print(author)\n",
    "    for name in author:\n",
    "        authors.append(name.replace(\"#    \", \"\").replace(\",\", \"\"))\n",
    "print(authors)\n",
    "#set(authors)\n",
    "j=Counter(authors)\n",
    "print(j)"
   ]
  },
  {
   "cell_type": "code",
   "execution_count": 52,
   "metadata": {},
   "outputs": [
    {
     "data": {
      "text/html": [
       "<div>\n",
       "<style>\n",
       "    .dataframe thead tr:only-child th {\n",
       "        text-align: right;\n",
       "    }\n",
       "\n",
       "    .dataframe thead th {\n",
       "        text-align: left;\n",
       "    }\n",
       "\n",
       "    .dataframe tbody tr th {\n",
       "        vertical-align: top;\n",
       "    }\n",
       "</style>\n",
       "<table border=\"1\" class=\"dataframe\">\n",
       "  <thead>\n",
       "    <tr style=\"text-align: right;\">\n",
       "      <th></th>\n",
       "      <th>Authors</th>\n",
       "      <th>Counts</th>\n",
       "    </tr>\n",
       "  </thead>\n",
       "  <tbody>\n",
       "    <tr>\n",
       "      <th>0</th>\n",
       "      <td>Helmut Spaeth</td>\n",
       "      <td>16</td>\n",
       "    </tr>\n",
       "    <tr>\n",
       "      <th>6</th>\n",
       "      <td>S Chatterjee</td>\n",
       "      <td>4</td>\n",
       "    </tr>\n",
       "    <tr>\n",
       "      <th>7</th>\n",
       "      <td>B Price</td>\n",
       "      <td>4</td>\n",
       "    </tr>\n",
       "    <tr>\n",
       "      <th>1</th>\n",
       "      <td>R J Freund</td>\n",
       "      <td>2</td>\n",
       "    </tr>\n",
       "    <tr>\n",
       "      <th>2</th>\n",
       "      <td>P D Minton</td>\n",
       "      <td>2</td>\n",
       "    </tr>\n",
       "    <tr>\n",
       "      <th>3</th>\n",
       "      <td>D G Kleinbaum</td>\n",
       "      <td>2</td>\n",
       "    </tr>\n",
       "    <tr>\n",
       "      <th>4</th>\n",
       "      <td>L L Kupper</td>\n",
       "      <td>2</td>\n",
       "    </tr>\n",
       "    <tr>\n",
       "      <th>8</th>\n",
       "      <td>S C Narula</td>\n",
       "      <td>2</td>\n",
       "    </tr>\n",
       "    <tr>\n",
       "      <th>9</th>\n",
       "      <td>J F Wellington</td>\n",
       "      <td>2</td>\n",
       "    </tr>\n",
       "    <tr>\n",
       "      <th>5</th>\n",
       "      <td>K A Brownlee</td>\n",
       "      <td>1</td>\n",
       "    </tr>\n",
       "  </tbody>\n",
       "</table>\n",
       "</div>"
      ],
      "text/plain": [
       "          Authors  Counts\n",
       "0   Helmut Spaeth      16\n",
       "6    S Chatterjee       4\n",
       "7         B Price       4\n",
       "1      R J Freund       2\n",
       "2      P D Minton       2\n",
       "3   D G Kleinbaum       2\n",
       "4      L L Kupper       2\n",
       "8      S C Narula       2\n",
       "9  J F Wellington       2\n",
       "5    K A Brownlee       1"
      ]
     },
     "execution_count": 52,
     "metadata": {},
     "output_type": "execute_result"
    }
   ],
   "source": [
    "df = pd.DataFrame.from_dict(j, orient='index').reset_index()\n",
    "df = df.rename(columns={'index':'Authors', 0:'Counts'})\n",
    "df = df.sort_values(by='Counts', ascending=False)\n",
    "df"
   ]
  },
  {
   "cell_type": "code",
   "execution_count": null,
   "metadata": {
    "collapsed": true
   },
   "outputs": [],
   "source": []
  },
  {
   "cell_type": "code",
   "execution_count": null,
   "metadata": {
    "collapsed": true
   },
   "outputs": [],
   "source": []
  }
 ],
 "metadata": {
  "kernelspec": {
   "display_name": "Python 3",
   "language": "python",
   "name": "python3"
  },
  "language_info": {
   "codemirror_mode": {
    "name": "ipython",
    "version": 3
   },
   "file_extension": ".py",
   "mimetype": "text/x-python",
   "name": "python",
   "nbconvert_exporter": "python",
   "pygments_lexer": "ipython3",
   "version": "3.6.3"
  }
 },
 "nbformat": 4,
 "nbformat_minor": 2
}
