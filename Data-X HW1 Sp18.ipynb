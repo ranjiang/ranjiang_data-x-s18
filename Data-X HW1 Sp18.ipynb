{
 "cells": [
  {
   "cell_type": "markdown",
   "metadata": {},
   "source": [
    "# Homework 1"
   ]
  },
  {
   "cell_type": "markdown",
   "metadata": {},
   "source": [
    "In this homework, you will get a chance to do some exercises with Numpy, Pandas, and Matplotlib to show us your understanding with this libraries. \n",
    "\n",
    "If you have questions, Google! Additionally you can ask your peers questions on Piazza and/or go to Office Hours.\n",
    "\n",
    "This homework is due **Thursday Feb. 8th, 2018 at 11:59 PM**. Please upload your .ipynb to your private repo on Github. Additionally, submit a pdf on bCourses and in the comment section include a link to your private repo.\n",
    "\n",
    "This homework is long, please start early!"
   ]
  },
  {
   "cell_type": "code",
   "execution_count": 1,
   "metadata": {
    "collapsed": true
   },
   "outputs": [],
   "source": [
    "import numpy as np\n",
    "import pandas as pd\n",
    "import matplotlib.pyplot as plt\n",
    "%matplotlib inline"
   ]
  },
  {
   "cell_type": "markdown",
   "metadata": {},
   "source": [
    "## NumPy Basics"
   ]
  },
  {
   "cell_type": "markdown",
   "metadata": {},
   "source": [
    "Create two numpy arrays (`a` and `b`). `a` should be all integers between 10-19 (inclusive), and `b` should be ten evenly spaced numbers between 1-7. Print the results below."
   ]
  },
  {
   "cell_type": "code",
   "execution_count": 2,
   "metadata": {},
   "outputs": [
    {
     "name": "stdout",
     "output_type": "stream",
     "text": [
      "('a: ', array([10, 11, 12, 13, 14, 15, 16, 17, 18, 19]))\n",
      "('b: ', array([ 1. ,  1.7,  2.4,  3.1,  3.8,  4.5,  5.2,  5.9,  6.6,  7.3]))\n"
     ]
    }
   ],
   "source": [
    "a = np.arange(10,20)\n",
    "b = np.arange(1,8,0.7)\n",
    "\n",
    "print(\"a: \", a)\n",
    "print(\"b: \", b)"
   ]
  },
  {
   "cell_type": "markdown",
   "metadata": {},
   "source": [
    "For `a` and `b` above do the follow and print out the results.\n",
    "\n",
    "1. Square all the elements in both arrays (element-wise).  \n",
    "2. Add both the squared arrays (e.g. [1,2] + [3,4] = [4,6]).  \n",
    "3. Sum the elements with even indices of the added array.  \n",
    "4. Take the square root of the added array (element-wise square root)."
   ]
  },
  {
   "cell_type": "code",
   "execution_count": 3,
   "metadata": {
    "scrolled": true
   },
   "outputs": [
    {
     "name": "stdout",
     "output_type": "stream",
     "text": [
      "('1. ', array([100, 121, 144, 169, 196, 225, 256, 289, 324, 361]), array([  1.  ,   2.89,   5.76,   9.61,  14.44,  20.25,  27.04,  34.81,\n",
      "        43.56,  53.29]))\n",
      "('2. ', array([ 101.  ,  123.89,  149.76,  178.61,  210.44,  245.25,  283.04,\n",
      "        323.81,  367.56,  414.29]))\n",
      "('3. ', 1111.8)\n",
      "('4. ', array([ 10.04987562,  11.13058848,  12.23764683,  13.36450523,\n",
      "        14.50655024,  15.66045976,  16.82379268,  17.99472145,\n",
      "        19.17185437,  20.35411506]))\n"
     ]
    }
   ],
   "source": [
    "asquare=np.power(a,2)\n",
    "bsquare=np.power(b,2)\n",
    "array2= np.add(asquare, bsquare)\n",
    "print(\"1. \", asquare, bsquare)\n",
    "print(\"2. \", array2)\n",
    "print(\"3. \", np.sum((array2) [::2]))\n",
    "print(\"4. \", np.sqrt(array2))"
   ]
  },
  {
   "cell_type": "markdown",
   "metadata": {},
   "source": [
    "Append `b` to `a`. Reshape the appended array so that it is a 5x4, 2D-array and store the results in a variable called `m`. Print `m`."
   ]
  },
  {
   "cell_type": "code",
   "execution_count": 4,
   "metadata": {},
   "outputs": [
    {
     "name": "stdout",
     "output_type": "stream",
     "text": [
      "('m: ', array([[ 10. ,  11. ,  12. ,  13. ],\n",
      "       [ 14. ,  15. ,  16. ,  17. ],\n",
      "       [ 18. ,  19. ,   1. ,   1.7],\n",
      "       [  2.4,   3.1,   3.8,   4.5],\n",
      "       [  5.2,   5.9,   6.6,   7.3]]))\n"
     ]
    }
   ],
   "source": [
    "m = np.reshape (np.concatenate((a, b), axis=0),(5,4))\n",
    "\n",
    "print(\"m: \", m)"
   ]
  },
  {
   "cell_type": "markdown",
   "metadata": {},
   "source": [
    "Extract the second and the third column of the matrix `m`. Store the resulting 5x2 matrix in a new variable called `m2`. Print `m2`."
   ]
  },
  {
   "cell_type": "code",
   "execution_count": 5,
   "metadata": {},
   "outputs": [
    {
     "name": "stdout",
     "output_type": "stream",
     "text": [
      "('m2: ', matrix([[ 11. ,  12. ],\n",
      "        [ 15. ,  16. ],\n",
      "        [ 19. ,   1. ],\n",
      "        [  3.1,   3.8],\n",
      "        [  5.9,   6.6]]))\n"
     ]
    }
   ],
   "source": [
    "m=np.asmatrix(m)\n",
    "m2 = np.reshape(m[:,[1,2]],(5,2))\n",
    "print(\"m2: \", m2)"
   ]
  },
  {
   "cell_type": "markdown",
   "metadata": {},
   "source": [
    "Take the dot product of `m2` and `m` store the results in a matrix called `m3`. Print `m3`.\n",
    "Note that dot product of two matrices $A\\cdot B = A^T B$"
   ]
  },
  {
   "cell_type": "code",
   "execution_count": 6,
   "metadata": {},
   "outputs": [
    {
     "name": "stdout",
     "output_type": "stream",
     "text": [
      "('m3: ', matrix([[ 700.12,  751.42,  441.72,  487.32],\n",
      "        [ 405.44,  441.72,  459.  ,  494.98]]))\n"
     ]
    }
   ],
   "source": [
    "m3 =np.dot(m2.T,m)\n",
    "print(\"m3: \", m3)"
   ]
  },
  {
   "cell_type": "markdown",
   "metadata": {},
   "source": [
    "Round the `m3` matrix to two decimal points. Store the result in place and print the new `m3`."
   ]
  },
  {
   "cell_type": "code",
   "execution_count": 7,
   "metadata": {},
   "outputs": [
    {
     "name": "stdout",
     "output_type": "stream",
     "text": [
      "('m3: ', array([[ 700.12,  751.42,  441.72,  487.32],\n",
      "       [ 405.44,  441.72,  459.  ,  494.98]]))\n"
     ]
    }
   ],
   "source": [
    "m3 = np.around(m3, decimals=2)\n",
    "\n",
    "print(\"m3: \", m3)"
   ]
  },
  {
   "cell_type": "markdown",
   "metadata": {},
   "source": [
    "Sort the `m3` array so that the highest value is at the top left, the next highest value to the right of the highest, and the lowest value is at the bottom right. Print the sorted `m3` array."
   ]
  },
  {
   "cell_type": "code",
   "execution_count": 8,
   "metadata": {},
   "outputs": [
    {
     "name": "stdout",
     "output_type": "stream",
     "text": [
      "('sorted m3: ', array([[ 700.12,  751.42,  459.  ,  494.98],\n",
      "       [ 405.44,  441.72,  441.72,  487.32]]))\n"
     ]
    }
   ],
   "source": [
    "sorted_m3 = np.sort(m3,axis=0)[::-1]\n",
    "\n",
    "print(\"sorted m3: \", sorted_m3)"
   ]
  },
  {
   "cell_type": "markdown",
   "metadata": {},
   "source": [
    "## NumPy and Masks"
   ]
  },
  {
   "cell_type": "markdown",
   "metadata": {},
   "source": [
    "Create an array called `f` where there are 100 equally-spaced values from 0 to pi, inclusive.\n",
    "Take the sin of the array `f` (element-wise) and store that in place. Print `f`."
   ]
  },
  {
   "cell_type": "code",
   "execution_count": 9,
   "metadata": {},
   "outputs": [
    {
     "name": "stdout",
     "output_type": "stream",
     "text": [
      "('sin(f) = ', array([  0.00000000e+00,   3.17279335e-02,   6.34239197e-02,\n",
      "         9.50560433e-02,   1.26592454e-01,   1.58001396e-01,\n",
      "         1.89251244e-01,   2.20310533e-01,   2.51147987e-01,\n",
      "         2.81732557e-01,   3.12033446e-01,   3.42020143e-01,\n",
      "         3.71662456e-01,   4.00930535e-01,   4.29794912e-01,\n",
      "         4.58226522e-01,   4.86196736e-01,   5.13677392e-01,\n",
      "         5.40640817e-01,   5.67059864e-01,   5.92907929e-01,\n",
      "         6.18158986e-01,   6.42787610e-01,   6.66769001e-01,\n",
      "         6.90079011e-01,   7.12694171e-01,   7.34591709e-01,\n",
      "         7.55749574e-01,   7.76146464e-01,   7.95761841e-01,\n",
      "         8.14575952e-01,   8.32569855e-01,   8.49725430e-01,\n",
      "         8.66025404e-01,   8.81453363e-01,   8.95993774e-01,\n",
      "         9.09631995e-01,   9.22354294e-01,   9.34147860e-01,\n",
      "         9.45000819e-01,   9.54902241e-01,   9.63842159e-01,\n",
      "         9.71811568e-01,   9.78802446e-01,   9.84807753e-01,\n",
      "         9.89821442e-01,   9.93838464e-01,   9.96854776e-01,\n",
      "         9.98867339e-01,   9.99874128e-01,   9.99874128e-01,\n",
      "         9.98867339e-01,   9.96854776e-01,   9.93838464e-01,\n",
      "         9.89821442e-01,   9.84807753e-01,   9.78802446e-01,\n",
      "         9.71811568e-01,   9.63842159e-01,   9.54902241e-01,\n",
      "         9.45000819e-01,   9.34147860e-01,   9.22354294e-01,\n",
      "         9.09631995e-01,   8.95993774e-01,   8.81453363e-01,\n",
      "         8.66025404e-01,   8.49725430e-01,   8.32569855e-01,\n",
      "         8.14575952e-01,   7.95761841e-01,   7.76146464e-01,\n",
      "         7.55749574e-01,   7.34591709e-01,   7.12694171e-01,\n",
      "         6.90079011e-01,   6.66769001e-01,   6.42787610e-01,\n",
      "         6.18158986e-01,   5.92907929e-01,   5.67059864e-01,\n",
      "         5.40640817e-01,   5.13677392e-01,   4.86196736e-01,\n",
      "         4.58226522e-01,   4.29794912e-01,   4.00930535e-01,\n",
      "         3.71662456e-01,   3.42020143e-01,   3.12033446e-01,\n",
      "         2.81732557e-01,   2.51147987e-01,   2.20310533e-01,\n",
      "         1.89251244e-01,   1.58001396e-01,   1.26592454e-01,\n",
      "         9.50560433e-02,   6.34239197e-02,   3.17279335e-02,\n",
      "         1.22464680e-16]))\n",
      "('f: ', array([ 0.        ,  0.03173326,  0.06346652,  0.09519978,  0.12693304,\n",
      "        0.1586663 ,  0.19039955,  0.22213281,  0.25386607,  0.28559933,\n",
      "        0.31733259,  0.34906585,  0.38079911,  0.41253237,  0.44426563,\n",
      "        0.47599889,  0.50773215,  0.53946541,  0.57119866,  0.60293192,\n",
      "        0.63466518,  0.66639844,  0.6981317 ,  0.72986496,  0.76159822,\n",
      "        0.79333148,  0.82506474,  0.856798  ,  0.88853126,  0.92026451,\n",
      "        0.95199777,  0.98373103,  1.01546429,  1.04719755,  1.07893081,\n",
      "        1.11066407,  1.14239733,  1.17413059,  1.20586385,  1.23759711,\n",
      "        1.26933037,  1.30106362,  1.33279688,  1.36453014,  1.3962634 ,\n",
      "        1.42799666,  1.45972992,  1.49146318,  1.52319644,  1.5549297 ,\n",
      "        1.58666296,  1.61839622,  1.65012947,  1.68186273,  1.71359599,\n",
      "        1.74532925,  1.77706251,  1.80879577,  1.84052903,  1.87226229,\n",
      "        1.90399555,  1.93572881,  1.96746207,  1.99919533,  2.03092858,\n",
      "        2.06266184,  2.0943951 ,  2.12612836,  2.15786162,  2.18959488,\n",
      "        2.22132814,  2.2530614 ,  2.28479466,  2.31652792,  2.34826118,\n",
      "        2.37999443,  2.41172769,  2.44346095,  2.47519421,  2.50692747,\n",
      "        2.53866073,  2.57039399,  2.60212725,  2.63386051,  2.66559377,\n",
      "        2.69732703,  2.72906028,  2.76079354,  2.7925268 ,  2.82426006,\n",
      "        2.85599332,  2.88772658,  2.91945984,  2.9511931 ,  2.98292636,\n",
      "        3.01465962,  3.04639288,  3.07812614,  3.10985939,  3.14159265]))\n"
     ]
    }
   ],
   "source": [
    "f = np.linspace(0,(np.pi),100)\n",
    "print (\"sin(f) = \", np.sin(f))\n",
    "print(\"f: \", f)"
   ]
  },
  {
   "cell_type": "markdown",
   "metadata": {},
   "source": [
    "Use a 'mask' and print an array that is True when `f` >= 1/2 and False when `f` < 1/2.\n",
    "Print an array sequence that has only those values where `f` >= 1/2."
   ]
  },
  {
   "cell_type": "code",
   "execution_count": 10,
   "metadata": {},
   "outputs": [
    {
     "name": "stdout",
     "output_type": "stream",
     "text": [
      "[False False False False False False False False False False False False\n",
      " False False False False  True  True  True  True  True  True  True  True\n",
      "  True  True  True  True  True  True  True  True  True  True  True  True\n",
      "  True  True  True  True  True  True  True  True  True  True  True  True\n",
      "  True  True  True  True  True  True  True  True  True  True  True  True\n",
      "  True  True  True  True  True  True  True  True  True  True  True  True\n",
      "  True  True  True  True  True  True  True  True  True  True  True  True\n",
      "  True  True  True  True  True  True  True  True  True  True  True  True\n",
      "  True  True  True  True]\n",
      "[ 0.50773215  0.53946541  0.57119866  0.60293192  0.63466518  0.66639844\n",
      "  0.6981317   0.72986496  0.76159822  0.79333148  0.82506474  0.856798\n",
      "  0.88853126  0.92026451  0.95199777  0.98373103  1.01546429  1.04719755\n",
      "  1.07893081  1.11066407  1.14239733  1.17413059  1.20586385  1.23759711\n",
      "  1.26933037  1.30106362  1.33279688  1.36453014  1.3962634   1.42799666\n",
      "  1.45972992  1.49146318  1.52319644  1.5549297   1.58666296  1.61839622\n",
      "  1.65012947  1.68186273  1.71359599  1.74532925  1.77706251  1.80879577\n",
      "  1.84052903  1.87226229  1.90399555  1.93572881  1.96746207  1.99919533\n",
      "  2.03092858  2.06266184  2.0943951   2.12612836  2.15786162  2.18959488\n",
      "  2.22132814  2.2530614   2.28479466  2.31652792  2.34826118  2.37999443\n",
      "  2.41172769  2.44346095  2.47519421  2.50692747  2.53866073  2.57039399\n",
      "  2.60212725  2.63386051  2.66559377  2.69732703  2.72906028  2.76079354\n",
      "  2.7925268   2.82426006  2.85599332  2.88772658  2.91945984  2.9511931\n",
      "  2.98292636  3.01465962  3.04639288  3.07812614  3.10985939  3.14159265]\n"
     ]
    }
   ],
   "source": [
    "mask = f>=(0.5)\n",
    "print(mask)\n",
    "print(f[mask])"
   ]
  },
  {
   "cell_type": "markdown",
   "metadata": {
    "collapsed": true
   },
   "source": [
    "## NumPy and 2 Variable Prediction"
   ]
  },
  {
   "cell_type": "markdown",
   "metadata": {},
   "source": [
    "Let `x` be the number of miles a person drives per day and `y` be the dollars spent on buying car fuel per day.\n",
    "  \n",
    "We have created 2 numpy arrays each of size 100 that represent `x` and `y`.  \n",
    "`x` (number of miles) ranges from 1 to 10 with a uniform noise of (0, 1/2).  \n",
    "`y` (money spent in dollars) will be from 1 to 20 with a uniform noise (0, 1). \n",
    "\n",
    "Run the cell below."
   ]
  },
  {
   "cell_type": "code",
   "execution_count": 11,
   "metadata": {},
   "outputs": [
    {
     "name": "stdout",
     "output_type": "stream",
     "text": [
      "('x = ', array([  1.34683976,   1.12176759,   1.51512398,   1.55233174,\n",
      "         1.40619168,   1.65075498,   1.79399331,   1.80243817,\n",
      "         1.89844195,   2.00100023,   2.3344038 ,   2.22424872,\n",
      "         2.24914511,   2.36268477,   2.49808849,   2.8212704 ,\n",
      "         2.68452475,   2.68229427,   3.09511169,   2.95703884,\n",
      "         3.09047742,   3.2544361 ,   3.41541904,   3.40886375,\n",
      "         3.50672677,   3.74960644,   3.64861355,   3.7721462 ,\n",
      "         3.56368566,   4.01092701,   4.15630694,   4.06088549,\n",
      "         4.02517179,   4.25169402,   4.15897504,   4.26835333,\n",
      "         4.32520644,   4.48563164,   4.78490721,   4.84614839,\n",
      "         4.96698768,   5.18754259,   5.29582013,   5.32097781,\n",
      "         5.0674106 ,   5.47601124,   5.46852704,   5.64537452,\n",
      "         5.49642807,   5.89755027,   5.68548923,   5.76276141,\n",
      "         5.94613234,   6.18135713,   5.96522091,   6.0275473 ,\n",
      "         6.54290191,   6.4991329 ,   6.74003765,   6.81809807,\n",
      "         6.50611821,   6.91538752,   7.01250925,   6.89905417,\n",
      "         7.31314433,   7.20472297,   7.1043621 ,   7.48199528,\n",
      "         7.58957227,   7.61744354,   7.6991707 ,   7.85436822,\n",
      "         8.03510784,   7.80787781,   8.22410224,   7.99366248,\n",
      "         8.40581097,   8.28913792,   8.45971515,   8.54227144,\n",
      "         8.6906456 ,   8.61856507,   8.83489887,   8.66309658,\n",
      "         8.94837987,   9.20890222,   8.9614749 ,   8.92608294,\n",
      "         9.13231416,   9.55889896,   9.61488451,   9.54252979,\n",
      "         9.42015491,   9.90952569,  10.00659591,  10.02504265,\n",
      "        10.07330937,   9.93489915,  10.0892334 ,  10.36509991]))\n",
      "('y= ', array([  1.6635012 ,   2.0214592 ,   2.10816052,   2.26016496,\n",
      "         1.96287558,   2.9554635 ,   3.02881887,   3.33565296,\n",
      "         2.75465779,   3.4250107 ,   3.39670148,   3.39377767,\n",
      "         3.78503343,   4.38293049,   4.32963586,   4.03925039,\n",
      "         4.73691868,   4.30098399,   4.8416329 ,   4.78175957,\n",
      "         4.99765787,   5.31746817,   5.76844671,   5.93723749,\n",
      "         5.72811642,   6.70973615,   6.68143367,   6.57482731,\n",
      "         7.17737603,   7.54863252,   7.30221419,   7.3202573 ,\n",
      "         7.78023884,   7.91133365,   8.2765417 ,   8.69203281,\n",
      "         8.78219865,   8.45897546,   8.89094715,   8.81719921,\n",
      "         8.87106971,   9.66192562,   9.4020625 ,   9.85990783,\n",
      "         9.60359778,  10.07386266,  10.6957995 ,  10.66721916,\n",
      "        11.18256285,  10.57431836,  11.46744716,  10.94398916,\n",
      "        11.26445259,  12.09754828,  12.11988037,  12.121557  ,\n",
      "        12.17613693,  12.43750193,  13.00912372,  12.86407194,\n",
      "        13.24640866,  12.76120085,  13.11723062,  14.07841099,\n",
      "        14.19821707,  14.27289001,  14.30624942,  14.63060835,\n",
      "        14.2770918 ,  15.0744923 ,  14.45261619,  15.11897313,\n",
      "        15.2378667 ,  15.27203124,  15.32491892,  16.01095271,\n",
      "        15.71250558,  16.29488506,  16.70618934,  16.56555394,\n",
      "        16.42379457,  17.18144744,  17.13813976,  17.69613625,\n",
      "        17.37763019,  17.90942839,  17.90343733,  18.01951169,\n",
      "        18.35727914,  18.16841269,  18.61813748,  18.66062754,\n",
      "        18.81217983,  19.44995194,  19.7213867 ,  19.71966726,\n",
      "        19.78961904,  19.64385088,  20.69719809,  20.07974319]))\n"
     ]
    }
   ],
   "source": [
    "# seed the random number generator with a fixed value\n",
    "np.random.seed(500)\n",
    "\n",
    "x=np.linspace(1,10,100)+ np.random.uniform(low=0,high=.5,size=100) \n",
    "y=np.linspace(1,20,100)+ np.random.uniform(low=0,high=1,size=100)\n",
    "print ('x = ',x)\n",
    "print ('y= ',y)"
   ]
  },
  {
   "cell_type": "markdown",
   "metadata": {},
   "source": [
    "Find the expected value of `x` and the expected value of `y`."
   ]
  },
  {
   "cell_type": "code",
   "execution_count": 12,
   "metadata": {},
   "outputs": [
    {
     "name": "stdout",
     "output_type": "stream",
     "text": [
      "5.78253254159\n",
      "11.0129816833\n"
     ]
    }
   ],
   "source": [
    "print (np.mean(x))\n",
    "print (np.mean(y))"
   ]
  },
  {
   "cell_type": "markdown",
   "metadata": {},
   "source": [
    "Find the variance for `x` and `y`."
   ]
  },
  {
   "cell_type": "code",
   "execution_count": 13,
   "metadata": {},
   "outputs": [
    {
     "name": "stdout",
     "output_type": "stream",
     "text": [
      "7.03332752948\n",
      "30.1139035755\n"
     ]
    }
   ],
   "source": [
    "print (np.var(x))\n",
    "print (np.var(y))"
   ]
  },
  {
   "cell_type": "markdown",
   "metadata": {},
   "source": [
    "Find the co-variance of `x` and `y`."
   ]
  },
  {
   "cell_type": "code",
   "execution_count": 14,
   "metadata": {},
   "outputs": [
    {
     "name": "stdout",
     "output_type": "stream",
     "text": [
      "[[  7.10437124  14.65774383]\n",
      " [ 14.65774383  30.41808442]]\n"
     ]
    }
   ],
   "source": [
    "print (np.cov(x,y))"
   ]
  },
  {
   "cell_type": "markdown",
   "metadata": {},
   "source": [
    "Assume that the number of dollars spent on car fuel is only linearly dependent on the miles driven.\n",
    "Write code that uses a linear predictor to calculate a predicted value of `y` for each `x`.  \n",
    "\n",
    "i.e. $y_{predicted} = f(x) = mx + b.$"
   ]
  },
  {
   "cell_type": "code",
   "execution_count": 15,
   "metadata": {
    "collapsed": true
   },
   "outputs": [],
   "source": [
    "fit = np.polyfit(x,y,1)\n",
    "y_predicted = x*fit[0] + fit[1]"
   ]
  },
  {
   "cell_type": "markdown",
   "metadata": {},
   "source": [
    "Predict `y` for each value in `x`, put the error into an array called $y_{error}$."
   ]
  },
  {
   "cell_type": "code",
   "execution_count": 16,
   "metadata": {
    "collapsed": true
   },
   "outputs": [],
   "source": [
    "y_error = y-y_predicted"
   ]
  },
  {
   "cell_type": "markdown",
   "metadata": {},
   "source": [
    "Write code that calculates the root mean square error (RMSE)."
   ]
  },
  {
   "cell_type": "code",
   "execution_count": 17,
   "metadata": {
    "collapsed": true
   },
   "outputs": [],
   "source": [
    "rmse = np.sqrt(np.mean((y_error)**2))"
   ]
  },
  {
   "cell_type": "markdown",
   "metadata": {},
   "source": [
    "## Pandas"
   ]
  },
  {
   "cell_type": "markdown",
   "metadata": {},
   "source": [
    "### Reading a File"
   ]
  },
  {
   "cell_type": "markdown",
   "metadata": {},
   "source": [
    "Read in a CSV file called 'data3.csv' into a dataframe called df.\n",
    "\n",
    "Data description\n",
    "* Data source: http://www.fao.org/nr/water/aquastat/data/query/index.html\n",
    "* Data, units\n",
    "    * GDP, current USD (CPI adjusted)\n",
    "    * NRI, mm/yr\n",
    "    * Population density, inhab/km^2\n",
    "    * Total area of the country, 1000 ha = 10km^2\n",
    "    * Total Population, unit 1000 inhabitants\n",
    "\n",
    "Display the first 10 lines of the dataframe."
   ]
  },
  {
   "cell_type": "code",
   "execution_count": 18,
   "metadata": {},
   "outputs": [
    {
     "data": {
      "text/html": [
       "<div>\n",
       "<style>\n",
       "    .dataframe thead tr:only-child th {\n",
       "        text-align: right;\n",
       "    }\n",
       "\n",
       "    .dataframe thead th {\n",
       "        text-align: left;\n",
       "    }\n",
       "\n",
       "    .dataframe tbody tr th {\n",
       "        vertical-align: top;\n",
       "    }\n",
       "</style>\n",
       "<table border=\"1\" class=\"dataframe\">\n",
       "  <thead>\n",
       "    <tr style=\"text-align: right;\">\n",
       "      <th></th>\n",
       "      <th>Area</th>\n",
       "      <th>Area Id</th>\n",
       "      <th>Variable Name</th>\n",
       "      <th>Variable Id</th>\n",
       "      <th>Year</th>\n",
       "      <th>Value</th>\n",
       "      <th>Symbol</th>\n",
       "      <th>Md</th>\n",
       "    </tr>\n",
       "  </thead>\n",
       "  <tbody>\n",
       "    <tr>\n",
       "      <th>0</th>\n",
       "      <td>Argentina</td>\n",
       "      <td>9.0</td>\n",
       "      <td>Total area of the country</td>\n",
       "      <td>4100.0</td>\n",
       "      <td>1962.0</td>\n",
       "      <td>278040.0</td>\n",
       "      <td>E</td>\n",
       "      <td>NaN</td>\n",
       "    </tr>\n",
       "    <tr>\n",
       "      <th>1</th>\n",
       "      <td>Argentina</td>\n",
       "      <td>9.0</td>\n",
       "      <td>Total area of the country</td>\n",
       "      <td>4100.0</td>\n",
       "      <td>1967.0</td>\n",
       "      <td>278040.0</td>\n",
       "      <td>E</td>\n",
       "      <td>NaN</td>\n",
       "    </tr>\n",
       "    <tr>\n",
       "      <th>2</th>\n",
       "      <td>Argentina</td>\n",
       "      <td>9.0</td>\n",
       "      <td>Total area of the country</td>\n",
       "      <td>4100.0</td>\n",
       "      <td>1972.0</td>\n",
       "      <td>278040.0</td>\n",
       "      <td>E</td>\n",
       "      <td>NaN</td>\n",
       "    </tr>\n",
       "    <tr>\n",
       "      <th>3</th>\n",
       "      <td>Argentina</td>\n",
       "      <td>9.0</td>\n",
       "      <td>Total area of the country</td>\n",
       "      <td>4100.0</td>\n",
       "      <td>1977.0</td>\n",
       "      <td>278040.0</td>\n",
       "      <td>E</td>\n",
       "      <td>NaN</td>\n",
       "    </tr>\n",
       "    <tr>\n",
       "      <th>4</th>\n",
       "      <td>Argentina</td>\n",
       "      <td>9.0</td>\n",
       "      <td>Total area of the country</td>\n",
       "      <td>4100.0</td>\n",
       "      <td>1982.0</td>\n",
       "      <td>278040.0</td>\n",
       "      <td>E</td>\n",
       "      <td>NaN</td>\n",
       "    </tr>\n",
       "    <tr>\n",
       "      <th>5</th>\n",
       "      <td>Argentina</td>\n",
       "      <td>9.0</td>\n",
       "      <td>Total area of the country</td>\n",
       "      <td>4100.0</td>\n",
       "      <td>1987.0</td>\n",
       "      <td>278040.0</td>\n",
       "      <td>E</td>\n",
       "      <td>NaN</td>\n",
       "    </tr>\n",
       "    <tr>\n",
       "      <th>6</th>\n",
       "      <td>Argentina</td>\n",
       "      <td>9.0</td>\n",
       "      <td>Total area of the country</td>\n",
       "      <td>4100.0</td>\n",
       "      <td>1992.0</td>\n",
       "      <td>278040.0</td>\n",
       "      <td>E</td>\n",
       "      <td>NaN</td>\n",
       "    </tr>\n",
       "    <tr>\n",
       "      <th>7</th>\n",
       "      <td>Argentina</td>\n",
       "      <td>9.0</td>\n",
       "      <td>Total area of the country</td>\n",
       "      <td>4100.0</td>\n",
       "      <td>1997.0</td>\n",
       "      <td>278040.0</td>\n",
       "      <td>E</td>\n",
       "      <td>NaN</td>\n",
       "    </tr>\n",
       "    <tr>\n",
       "      <th>8</th>\n",
       "      <td>Argentina</td>\n",
       "      <td>9.0</td>\n",
       "      <td>Total area of the country</td>\n",
       "      <td>4100.0</td>\n",
       "      <td>2002.0</td>\n",
       "      <td>278040.0</td>\n",
       "      <td>E</td>\n",
       "      <td>NaN</td>\n",
       "    </tr>\n",
       "    <tr>\n",
       "      <th>9</th>\n",
       "      <td>Argentina</td>\n",
       "      <td>9.0</td>\n",
       "      <td>Total area of the country</td>\n",
       "      <td>4100.0</td>\n",
       "      <td>2007.0</td>\n",
       "      <td>278040.0</td>\n",
       "      <td>E</td>\n",
       "      <td>NaN</td>\n",
       "    </tr>\n",
       "  </tbody>\n",
       "</table>\n",
       "</div>"
      ],
      "text/plain": [
       "        Area  Area Id              Variable Name  Variable Id    Year  \\\n",
       "0  Argentina      9.0  Total area of the country       4100.0  1962.0   \n",
       "1  Argentina      9.0  Total area of the country       4100.0  1967.0   \n",
       "2  Argentina      9.0  Total area of the country       4100.0  1972.0   \n",
       "3  Argentina      9.0  Total area of the country       4100.0  1977.0   \n",
       "4  Argentina      9.0  Total area of the country       4100.0  1982.0   \n",
       "5  Argentina      9.0  Total area of the country       4100.0  1987.0   \n",
       "6  Argentina      9.0  Total area of the country       4100.0  1992.0   \n",
       "7  Argentina      9.0  Total area of the country       4100.0  1997.0   \n",
       "8  Argentina      9.0  Total area of the country       4100.0  2002.0   \n",
       "9  Argentina      9.0  Total area of the country       4100.0  2007.0   \n",
       "\n",
       "      Value Symbol  Md  \n",
       "0  278040.0      E NaN  \n",
       "1  278040.0      E NaN  \n",
       "2  278040.0      E NaN  \n",
       "3  278040.0      E NaN  \n",
       "4  278040.0      E NaN  \n",
       "5  278040.0      E NaN  \n",
       "6  278040.0      E NaN  \n",
       "7  278040.0      E NaN  \n",
       "8  278040.0      E NaN  \n",
       "9  278040.0      E NaN  "
      ]
     },
     "execution_count": 18,
     "metadata": {},
     "output_type": "execute_result"
    }
   ],
   "source": [
    "df = pd.read_csv('data3.csv')\n",
    "df.head(10)"
   ]
  },
  {
   "cell_type": "markdown",
   "metadata": {},
   "source": [
    "Display the column names."
   ]
  },
  {
   "cell_type": "code",
   "execution_count": 19,
   "metadata": {},
   "outputs": [
    {
     "data": {
      "text/plain": [
       "Area              object\n",
       "Area Id          float64\n",
       "Variable Name     object\n",
       "Variable Id      float64\n",
       "Year             float64\n",
       "Value            float64\n",
       "Symbol            object\n",
       "Md               float64\n",
       "dtype: object"
      ]
     },
     "execution_count": 19,
     "metadata": {},
     "output_type": "execute_result"
    }
   ],
   "source": [
    "df.dtypes"
   ]
  },
  {
   "cell_type": "markdown",
   "metadata": {},
   "source": [
    "### Data Preprocessing"
   ]
  },
  {
   "cell_type": "markdown",
   "metadata": {},
   "source": [
    "Create a mask of NAN values (i.e. apply `.isnull` on the dataframe). Inspect the mask for 'True' values, they denote NANs.  \n",
    "*Hint: You will notice that the last 8 rows and the last column ('Other') have NAN values. You can also use df.tail() to see the last row.*\n",
    "\n",
    "Remove the bottom 8 rows from the dataframe because they contain NAN values. Also remove the column 'Other'."
   ]
  },
  {
   "cell_type": "code",
   "execution_count": 20,
   "metadata": {},
   "outputs": [
    {
     "data": {
      "text/html": [
       "<div>\n",
       "<style>\n",
       "    .dataframe thead tr:only-child th {\n",
       "        text-align: right;\n",
       "    }\n",
       "\n",
       "    .dataframe thead th {\n",
       "        text-align: left;\n",
       "    }\n",
       "\n",
       "    .dataframe tbody tr th {\n",
       "        vertical-align: top;\n",
       "    }\n",
       "</style>\n",
       "<table border=\"1\" class=\"dataframe\">\n",
       "  <thead>\n",
       "    <tr style=\"text-align: right;\">\n",
       "      <th></th>\n",
       "      <th>Area</th>\n",
       "      <th>Area Id</th>\n",
       "      <th>Variable Name</th>\n",
       "      <th>Variable Id</th>\n",
       "      <th>Year</th>\n",
       "      <th>Value</th>\n",
       "      <th>Symbol</th>\n",
       "    </tr>\n",
       "  </thead>\n",
       "  <tbody>\n",
       "    <tr>\n",
       "      <th>0</th>\n",
       "      <td>Argentina</td>\n",
       "      <td>9.0</td>\n",
       "      <td>Total area of the country</td>\n",
       "      <td>4100.0</td>\n",
       "      <td>1962.0</td>\n",
       "      <td>278040.0</td>\n",
       "      <td>E</td>\n",
       "    </tr>\n",
       "    <tr>\n",
       "      <th>1</th>\n",
       "      <td>Argentina</td>\n",
       "      <td>9.0</td>\n",
       "      <td>Total area of the country</td>\n",
       "      <td>4100.0</td>\n",
       "      <td>1967.0</td>\n",
       "      <td>278040.0</td>\n",
       "      <td>E</td>\n",
       "    </tr>\n",
       "    <tr>\n",
       "      <th>2</th>\n",
       "      <td>Argentina</td>\n",
       "      <td>9.0</td>\n",
       "      <td>Total area of the country</td>\n",
       "      <td>4100.0</td>\n",
       "      <td>1972.0</td>\n",
       "      <td>278040.0</td>\n",
       "      <td>E</td>\n",
       "    </tr>\n",
       "    <tr>\n",
       "      <th>3</th>\n",
       "      <td>Argentina</td>\n",
       "      <td>9.0</td>\n",
       "      <td>Total area of the country</td>\n",
       "      <td>4100.0</td>\n",
       "      <td>1977.0</td>\n",
       "      <td>278040.0</td>\n",
       "      <td>E</td>\n",
       "    </tr>\n",
       "    <tr>\n",
       "      <th>4</th>\n",
       "      <td>Argentina</td>\n",
       "      <td>9.0</td>\n",
       "      <td>Total area of the country</td>\n",
       "      <td>4100.0</td>\n",
       "      <td>1982.0</td>\n",
       "      <td>278040.0</td>\n",
       "      <td>E</td>\n",
       "    </tr>\n",
       "  </tbody>\n",
       "</table>\n",
       "</div>"
      ],
      "text/plain": [
       "        Area  Area Id              Variable Name  Variable Id    Year  \\\n",
       "0  Argentina      9.0  Total area of the country       4100.0  1962.0   \n",
       "1  Argentina      9.0  Total area of the country       4100.0  1967.0   \n",
       "2  Argentina      9.0  Total area of the country       4100.0  1972.0   \n",
       "3  Argentina      9.0  Total area of the country       4100.0  1977.0   \n",
       "4  Argentina      9.0  Total area of the country       4100.0  1982.0   \n",
       "\n",
       "      Value Symbol  \n",
       "0  278040.0      E  \n",
       "1  278040.0      E  \n",
       "2  278040.0      E  \n",
       "3  278040.0      E  \n",
       "4  278040.0      E  "
      ]
     },
     "execution_count": 20,
     "metadata": {},
     "output_type": "execute_result"
    }
   ],
   "source": [
    "mask=df.isnull()\n",
    "NANs=df[mask]\n",
    "df=df[:-8]\n",
    "df=df.drop('Md', axis=1)\n",
    "df.head()"
   ]
  },
  {
   "cell_type": "markdown",
   "metadata": {},
   "source": [
    "All the columns in our dataframe are not required for analysis. Drop these columns: `Area Id`, `Variable Id`, and `Symbol` and save the new dataframe as `df1`.  "
   ]
  },
  {
   "cell_type": "code",
   "execution_count": 21,
   "metadata": {},
   "outputs": [
    {
     "data": {
      "text/html": [
       "<div>\n",
       "<style>\n",
       "    .dataframe thead tr:only-child th {\n",
       "        text-align: right;\n",
       "    }\n",
       "\n",
       "    .dataframe thead th {\n",
       "        text-align: left;\n",
       "    }\n",
       "\n",
       "    .dataframe tbody tr th {\n",
       "        vertical-align: top;\n",
       "    }\n",
       "</style>\n",
       "<table border=\"1\" class=\"dataframe\">\n",
       "  <thead>\n",
       "    <tr style=\"text-align: right;\">\n",
       "      <th></th>\n",
       "      <th>Area</th>\n",
       "      <th>Variable Name</th>\n",
       "      <th>Year</th>\n",
       "      <th>Value</th>\n",
       "    </tr>\n",
       "  </thead>\n",
       "  <tbody>\n",
       "    <tr>\n",
       "      <th>0</th>\n",
       "      <td>Argentina</td>\n",
       "      <td>Total area of the country</td>\n",
       "      <td>1962.0</td>\n",
       "      <td>278040.0</td>\n",
       "    </tr>\n",
       "    <tr>\n",
       "      <th>1</th>\n",
       "      <td>Argentina</td>\n",
       "      <td>Total area of the country</td>\n",
       "      <td>1967.0</td>\n",
       "      <td>278040.0</td>\n",
       "    </tr>\n",
       "    <tr>\n",
       "      <th>2</th>\n",
       "      <td>Argentina</td>\n",
       "      <td>Total area of the country</td>\n",
       "      <td>1972.0</td>\n",
       "      <td>278040.0</td>\n",
       "    </tr>\n",
       "    <tr>\n",
       "      <th>3</th>\n",
       "      <td>Argentina</td>\n",
       "      <td>Total area of the country</td>\n",
       "      <td>1977.0</td>\n",
       "      <td>278040.0</td>\n",
       "    </tr>\n",
       "    <tr>\n",
       "      <th>4</th>\n",
       "      <td>Argentina</td>\n",
       "      <td>Total area of the country</td>\n",
       "      <td>1982.0</td>\n",
       "      <td>278040.0</td>\n",
       "    </tr>\n",
       "  </tbody>\n",
       "</table>\n",
       "</div>"
      ],
      "text/plain": [
       "        Area              Variable Name    Year     Value\n",
       "0  Argentina  Total area of the country  1962.0  278040.0\n",
       "1  Argentina  Total area of the country  1967.0  278040.0\n",
       "2  Argentina  Total area of the country  1972.0  278040.0\n",
       "3  Argentina  Total area of the country  1977.0  278040.0\n",
       "4  Argentina  Total area of the country  1982.0  278040.0"
      ]
     },
     "execution_count": 21,
     "metadata": {},
     "output_type": "execute_result"
    }
   ],
   "source": [
    "df1 = df.drop([\"Area Id\", \"Variable Id\", \"Symbol\"], axis = 1)\n",
    "df1.head()"
   ]
  },
  {
   "cell_type": "markdown",
   "metadata": {},
   "source": [
    "Display all the unique values in your new dataframe for these columns: `Area`, `Variable Name`, and `Year`.  \n",
    "\n",
    "Note the Countries and the Metrics (ie.recorded variables) represented in your dataset.\n",
    "*Hint: Use .unique( ) method.*"
   ]
  },
  {
   "cell_type": "code",
   "execution_count": 22,
   "metadata": {},
   "outputs": [
    {
     "data": {
      "text/plain": [
       "array([ 1962.,  1967.,  1972.,  1977.,  1982.,  1987.,  1992.,  1997.,\n",
       "        2002.,  2007.,  2012.,  2014.,  2015.,  1963.,  1970.,  1974.,\n",
       "        1978.,  1984.,  1990.,  1964.,  1981.,  1985.,  1996.,  2001.,\n",
       "        1969.,  1973.,  1979.,  1993.,  1971.,  1975.,  1986.,  1991.,\n",
       "        1998.,  2000.,  1965.,  1983.,  1988.,  1995.])"
      ]
     },
     "execution_count": 22,
     "metadata": {},
     "output_type": "execute_result"
    }
   ],
   "source": [
    "df1.Area.unique()\n",
    "df1['Variable Name'].unique()\n",
    "df1.Year.unique()"
   ]
  },
  {
   "cell_type": "markdown",
   "metadata": {},
   "source": [
    "Convert the `Year` column string values to pandas datetime objects, where only the year is specified.  \n",
    "*Hint: df1['Year'] = pd.to_datetime(pd.Series(df1['Year']).astype(int),format='%Y').dt.year*\n",
    "\n",
    "Run df1.tail() to see part of the result."
   ]
  },
  {
   "cell_type": "code",
   "execution_count": 23,
   "metadata": {},
   "outputs": [
    {
     "data": {
      "text/html": [
       "<div>\n",
       "<style>\n",
       "    .dataframe thead tr:only-child th {\n",
       "        text-align: right;\n",
       "    }\n",
       "\n",
       "    .dataframe thead th {\n",
       "        text-align: left;\n",
       "    }\n",
       "\n",
       "    .dataframe tbody tr th {\n",
       "        vertical-align: top;\n",
       "    }\n",
       "</style>\n",
       "<table border=\"1\" class=\"dataframe\">\n",
       "  <thead>\n",
       "    <tr style=\"text-align: right;\">\n",
       "      <th></th>\n",
       "      <th>Area</th>\n",
       "      <th>Variable Name</th>\n",
       "      <th>Year</th>\n",
       "      <th>Value</th>\n",
       "    </tr>\n",
       "  </thead>\n",
       "  <tbody>\n",
       "    <tr>\n",
       "      <th>385</th>\n",
       "      <td>United States of America</td>\n",
       "      <td>National Rainfall Index (NRI)</td>\n",
       "      <td>1981</td>\n",
       "      <td>949.2</td>\n",
       "    </tr>\n",
       "    <tr>\n",
       "      <th>386</th>\n",
       "      <td>United States of America</td>\n",
       "      <td>National Rainfall Index (NRI)</td>\n",
       "      <td>1984</td>\n",
       "      <td>974.6</td>\n",
       "    </tr>\n",
       "    <tr>\n",
       "      <th>387</th>\n",
       "      <td>United States of America</td>\n",
       "      <td>National Rainfall Index (NRI)</td>\n",
       "      <td>1992</td>\n",
       "      <td>1020.0</td>\n",
       "    </tr>\n",
       "    <tr>\n",
       "      <th>388</th>\n",
       "      <td>United States of America</td>\n",
       "      <td>National Rainfall Index (NRI)</td>\n",
       "      <td>1996</td>\n",
       "      <td>1005.0</td>\n",
       "    </tr>\n",
       "    <tr>\n",
       "      <th>389</th>\n",
       "      <td>United States of America</td>\n",
       "      <td>National Rainfall Index (NRI)</td>\n",
       "      <td>2002</td>\n",
       "      <td>938.7</td>\n",
       "    </tr>\n",
       "  </tbody>\n",
       "</table>\n",
       "</div>"
      ],
      "text/plain": [
       "                         Area                  Variable Name  Year   Value\n",
       "385  United States of America  National Rainfall Index (NRI)  1981   949.2\n",
       "386  United States of America  National Rainfall Index (NRI)  1984   974.6\n",
       "387  United States of America  National Rainfall Index (NRI)  1992  1020.0\n",
       "388  United States of America  National Rainfall Index (NRI)  1996  1005.0\n",
       "389  United States of America  National Rainfall Index (NRI)  2002   938.7"
      ]
     },
     "execution_count": 23,
     "metadata": {},
     "output_type": "execute_result"
    }
   ],
   "source": [
    "df1['Year'] = pd.to_datetime(pd.Series(df1['Year']).astype(int),format='%Y').dt.year\n",
    "df1.tail()"
   ]
  },
  {
   "cell_type": "markdown",
   "metadata": {},
   "source": [
    "### Extracting Statistics"
   ]
  },
  {
   "cell_type": "markdown",
   "metadata": {},
   "source": [
    "Create a dataframe 'dftemp' to store rows where the `Area` is `Iceland`."
   ]
  },
  {
   "cell_type": "code",
   "execution_count": 24,
   "metadata": {},
   "outputs": [
    {
     "data": {
      "text/html": [
       "<div>\n",
       "<style>\n",
       "    .dataframe thead tr:only-child th {\n",
       "        text-align: right;\n",
       "    }\n",
       "\n",
       "    .dataframe thead th {\n",
       "        text-align: left;\n",
       "    }\n",
       "\n",
       "    .dataframe tbody tr th {\n",
       "        vertical-align: top;\n",
       "    }\n",
       "</style>\n",
       "<table border=\"1\" class=\"dataframe\">\n",
       "  <thead>\n",
       "    <tr style=\"text-align: right;\">\n",
       "      <th></th>\n",
       "      <th>Area</th>\n",
       "      <th>Variable Name</th>\n",
       "      <th>Year</th>\n",
       "      <th>Value</th>\n",
       "    </tr>\n",
       "  </thead>\n",
       "  <tbody>\n",
       "    <tr>\n",
       "      <th>166</th>\n",
       "      <td>Iceland</td>\n",
       "      <td>Total area of the country</td>\n",
       "      <td>1962</td>\n",
       "      <td>10300.0</td>\n",
       "    </tr>\n",
       "    <tr>\n",
       "      <th>167</th>\n",
       "      <td>Iceland</td>\n",
       "      <td>Total area of the country</td>\n",
       "      <td>1967</td>\n",
       "      <td>10300.0</td>\n",
       "    </tr>\n",
       "    <tr>\n",
       "      <th>168</th>\n",
       "      <td>Iceland</td>\n",
       "      <td>Total area of the country</td>\n",
       "      <td>1972</td>\n",
       "      <td>10300.0</td>\n",
       "    </tr>\n",
       "    <tr>\n",
       "      <th>169</th>\n",
       "      <td>Iceland</td>\n",
       "      <td>Total area of the country</td>\n",
       "      <td>1977</td>\n",
       "      <td>10300.0</td>\n",
       "    </tr>\n",
       "    <tr>\n",
       "      <th>170</th>\n",
       "      <td>Iceland</td>\n",
       "      <td>Total area of the country</td>\n",
       "      <td>1982</td>\n",
       "      <td>10300.0</td>\n",
       "    </tr>\n",
       "  </tbody>\n",
       "</table>\n",
       "</div>"
      ],
      "text/plain": [
       "        Area              Variable Name  Year    Value\n",
       "166  Iceland  Total area of the country  1962  10300.0\n",
       "167  Iceland  Total area of the country  1967  10300.0\n",
       "168  Iceland  Total area of the country  1972  10300.0\n",
       "169  Iceland  Total area of the country  1977  10300.0\n",
       "170  Iceland  Total area of the country  1982  10300.0"
      ]
     },
     "execution_count": 24,
     "metadata": {},
     "output_type": "execute_result"
    }
   ],
   "source": [
    "dftemp = df1[df1['Area'].isin(['Iceland'])]\n",
    "dftemp.head()"
   ]
  },
  {
   "cell_type": "markdown",
   "metadata": {},
   "source": [
    "Print the years when the National Rainfall Index (NRI) was `> 950` or `< 900` in Iceland using the dataframe you created in the previous question."
   ]
  },
  {
   "cell_type": "code",
   "execution_count": 25,
   "metadata": {},
   "outputs": [
    {
     "data": {
      "text/plain": [
       "166    1962\n",
       "167    1967\n",
       "168    1972\n",
       "169    1977\n",
       "170    1982\n",
       "171    1987\n",
       "172    1992\n",
       "173    1997\n",
       "174    2002\n",
       "175    2007\n",
       "176    2012\n",
       "177    2014\n",
       "178    1962\n",
       "179    1967\n",
       "180    1972\n",
       "181    1977\n",
       "182    1982\n",
       "183    1987\n",
       "184    1992\n",
       "185    1997\n",
       "186    2002\n",
       "187    2007\n",
       "188    2012\n",
       "189    2015\n",
       "190    1962\n",
       "191    1967\n",
       "192    1972\n",
       "193    1977\n",
       "194    1982\n",
       "195    1987\n",
       "196    1992\n",
       "197    1997\n",
       "198    2002\n",
       "199    2007\n",
       "200    2012\n",
       "201    2015\n",
       "202    1962\n",
       "203    1967\n",
       "204    1972\n",
       "205    1977\n",
       "206    1982\n",
       "207    1987\n",
       "208    1992\n",
       "209    1997\n",
       "210    2002\n",
       "211    2007\n",
       "212    2012\n",
       "213    2015\n",
       "214    1967\n",
       "215    1971\n",
       "216    1975\n",
       "218    1986\n",
       "219    1991\n",
       "220    1997\n",
       "Name: Year, dtype: int64"
      ]
     },
     "execution_count": 25,
     "metadata": {},
     "output_type": "execute_result"
    }
   ],
   "source": [
    "dftemp['Year'][(dftemp[\"Value\"]>950) | (dftemp[\"Value\"]< 900)]"
   ]
  },
  {
   "cell_type": "markdown",
   "metadata": {},
   "source": [
    "Get all the rows of df1 (from the preprocessed data section of this notebook) where the `Area` is `United States of America` and store that into a new dataframe called `df_usa`. Set the indices of the this dataframe to be the `Year` column.  \n",
    "*Hint: Use .set_index()*"
   ]
  },
  {
   "cell_type": "code",
   "execution_count": 26,
   "metadata": {},
   "outputs": [
    {
     "data": {
      "text/html": [
       "<div>\n",
       "<style>\n",
       "    .dataframe thead tr:only-child th {\n",
       "        text-align: right;\n",
       "    }\n",
       "\n",
       "    .dataframe thead th {\n",
       "        text-align: left;\n",
       "    }\n",
       "\n",
       "    .dataframe tbody tr th {\n",
       "        vertical-align: top;\n",
       "    }\n",
       "</style>\n",
       "<table border=\"1\" class=\"dataframe\">\n",
       "  <thead>\n",
       "    <tr style=\"text-align: right;\">\n",
       "      <th></th>\n",
       "      <th>Area</th>\n",
       "      <th>Variable Name</th>\n",
       "      <th>Value</th>\n",
       "    </tr>\n",
       "    <tr>\n",
       "      <th>Year</th>\n",
       "      <th></th>\n",
       "      <th></th>\n",
       "      <th></th>\n",
       "    </tr>\n",
       "  </thead>\n",
       "  <tbody>\n",
       "    <tr>\n",
       "      <th>1962</th>\n",
       "      <td>United States of America</td>\n",
       "      <td>Total area of the country</td>\n",
       "      <td>962909.0</td>\n",
       "    </tr>\n",
       "    <tr>\n",
       "      <th>1967</th>\n",
       "      <td>United States of America</td>\n",
       "      <td>Total area of the country</td>\n",
       "      <td>962909.0</td>\n",
       "    </tr>\n",
       "    <tr>\n",
       "      <th>1972</th>\n",
       "      <td>United States of America</td>\n",
       "      <td>Total area of the country</td>\n",
       "      <td>962909.0</td>\n",
       "    </tr>\n",
       "    <tr>\n",
       "      <th>1977</th>\n",
       "      <td>United States of America</td>\n",
       "      <td>Total area of the country</td>\n",
       "      <td>962909.0</td>\n",
       "    </tr>\n",
       "    <tr>\n",
       "      <th>1982</th>\n",
       "      <td>United States of America</td>\n",
       "      <td>Total area of the country</td>\n",
       "      <td>962909.0</td>\n",
       "    </tr>\n",
       "  </tbody>\n",
       "</table>\n",
       "</div>"
      ],
      "text/plain": [
       "                          Area              Variable Name     Value\n",
       "Year                                                               \n",
       "1962  United States of America  Total area of the country  962909.0\n",
       "1967  United States of America  Total area of the country  962909.0\n",
       "1972  United States of America  Total area of the country  962909.0\n",
       "1977  United States of America  Total area of the country  962909.0\n",
       "1982  United States of America  Total area of the country  962909.0"
      ]
     },
     "execution_count": 26,
     "metadata": {},
     "output_type": "execute_result"
    }
   ],
   "source": [
    "df_usa =df1[df1['Area'].isin(['United States of America'])].set_index([\"Year\"])\n",
    "df_usa.head()"
   ]
  },
  {
   "cell_type": "markdown",
   "metadata": {},
   "source": [
    "Pivot the dataframe so that the unique `Variable Name` entries become the column entries. The dataframe values should be the ones in the `Value` column. Do this by running the lines of code below."
   ]
  },
  {
   "cell_type": "code",
   "execution_count": 27,
   "metadata": {},
   "outputs": [
    {
     "data": {
      "text/html": [
       "<div>\n",
       "<style>\n",
       "    .dataframe thead tr:only-child th {\n",
       "        text-align: right;\n",
       "    }\n",
       "\n",
       "    .dataframe thead th {\n",
       "        text-align: left;\n",
       "    }\n",
       "\n",
       "    .dataframe tbody tr th {\n",
       "        vertical-align: top;\n",
       "    }\n",
       "</style>\n",
       "<table border=\"1\" class=\"dataframe\">\n",
       "  <thead>\n",
       "    <tr style=\"text-align: right;\">\n",
       "      <th>Variable Name</th>\n",
       "      <th>Gross Domestic Product (GDP)</th>\n",
       "      <th>National Rainfall Index (NRI)</th>\n",
       "      <th>Population density</th>\n",
       "      <th>Total area of the country</th>\n",
       "      <th>Total population</th>\n",
       "    </tr>\n",
       "    <tr>\n",
       "      <th>Year</th>\n",
       "      <th></th>\n",
       "      <th></th>\n",
       "      <th></th>\n",
       "      <th></th>\n",
       "      <th></th>\n",
       "    </tr>\n",
       "  </thead>\n",
       "  <tbody>\n",
       "    <tr>\n",
       "      <th>1962</th>\n",
       "      <td>6.050000e+11</td>\n",
       "      <td>NaN</td>\n",
       "      <td>19.93</td>\n",
       "      <td>962909.0</td>\n",
       "      <td>191861.0</td>\n",
       "    </tr>\n",
       "    <tr>\n",
       "      <th>1965</th>\n",
       "      <td>NaN</td>\n",
       "      <td>928.5</td>\n",
       "      <td>NaN</td>\n",
       "      <td>NaN</td>\n",
       "      <td>NaN</td>\n",
       "    </tr>\n",
       "    <tr>\n",
       "      <th>1967</th>\n",
       "      <td>8.620000e+11</td>\n",
       "      <td>NaN</td>\n",
       "      <td>21.16</td>\n",
       "      <td>962909.0</td>\n",
       "      <td>203713.0</td>\n",
       "    </tr>\n",
       "    <tr>\n",
       "      <th>1969</th>\n",
       "      <td>NaN</td>\n",
       "      <td>952.2</td>\n",
       "      <td>NaN</td>\n",
       "      <td>NaN</td>\n",
       "      <td>NaN</td>\n",
       "    </tr>\n",
       "    <tr>\n",
       "      <th>1972</th>\n",
       "      <td>1.280000e+12</td>\n",
       "      <td>NaN</td>\n",
       "      <td>22.14</td>\n",
       "      <td>962909.0</td>\n",
       "      <td>213220.0</td>\n",
       "    </tr>\n",
       "  </tbody>\n",
       "</table>\n",
       "</div>"
      ],
      "text/plain": [
       "Variable Name  Gross Domestic Product (GDP)  National Rainfall Index (NRI)  \\\n",
       "Year                                                                         \n",
       "1962                           6.050000e+11                            NaN   \n",
       "1965                                    NaN                          928.5   \n",
       "1967                           8.620000e+11                            NaN   \n",
       "1969                                    NaN                          952.2   \n",
       "1972                           1.280000e+12                            NaN   \n",
       "\n",
       "Variable Name  Population density  Total area of the country  Total population  \n",
       "Year                                                                            \n",
       "1962                        19.93                   962909.0          191861.0  \n",
       "1965                          NaN                        NaN               NaN  \n",
       "1967                        21.16                   962909.0          203713.0  \n",
       "1969                          NaN                        NaN               NaN  \n",
       "1972                        22.14                   962909.0          213220.0  "
      ]
     },
     "execution_count": 27,
     "metadata": {},
     "output_type": "execute_result"
    }
   ],
   "source": [
    "df_usa=df_usa.pivot(columns='Variable Name',values='Value')\n",
    "df_usa.head()"
   ]
  },
  {
   "cell_type": "markdown",
   "metadata": {},
   "source": [
    "Rename the corresponding columns to ['GDP','NRI','PD','Area','Population']."
   ]
  },
  {
   "cell_type": "code",
   "execution_count": 28,
   "metadata": {},
   "outputs": [
    {
     "data": {
      "text/html": [
       "<div>\n",
       "<style>\n",
       "    .dataframe thead tr:only-child th {\n",
       "        text-align: right;\n",
       "    }\n",
       "\n",
       "    .dataframe thead th {\n",
       "        text-align: left;\n",
       "    }\n",
       "\n",
       "    .dataframe tbody tr th {\n",
       "        vertical-align: top;\n",
       "    }\n",
       "</style>\n",
       "<table border=\"1\" class=\"dataframe\">\n",
       "  <thead>\n",
       "    <tr style=\"text-align: right;\">\n",
       "      <th>Variable Name</th>\n",
       "      <th>GDP</th>\n",
       "      <th>NRI</th>\n",
       "      <th>PD</th>\n",
       "      <th>Area</th>\n",
       "      <th>Population</th>\n",
       "    </tr>\n",
       "    <tr>\n",
       "      <th>Year</th>\n",
       "      <th></th>\n",
       "      <th></th>\n",
       "      <th></th>\n",
       "      <th></th>\n",
       "      <th></th>\n",
       "    </tr>\n",
       "  </thead>\n",
       "  <tbody>\n",
       "    <tr>\n",
       "      <th>1962</th>\n",
       "      <td>6.050000e+11</td>\n",
       "      <td>NaN</td>\n",
       "      <td>19.93</td>\n",
       "      <td>962909.0</td>\n",
       "      <td>191861.0</td>\n",
       "    </tr>\n",
       "    <tr>\n",
       "      <th>1965</th>\n",
       "      <td>NaN</td>\n",
       "      <td>928.5</td>\n",
       "      <td>NaN</td>\n",
       "      <td>NaN</td>\n",
       "      <td>NaN</td>\n",
       "    </tr>\n",
       "    <tr>\n",
       "      <th>1967</th>\n",
       "      <td>8.620000e+11</td>\n",
       "      <td>NaN</td>\n",
       "      <td>21.16</td>\n",
       "      <td>962909.0</td>\n",
       "      <td>203713.0</td>\n",
       "    </tr>\n",
       "    <tr>\n",
       "      <th>1969</th>\n",
       "      <td>NaN</td>\n",
       "      <td>952.2</td>\n",
       "      <td>NaN</td>\n",
       "      <td>NaN</td>\n",
       "      <td>NaN</td>\n",
       "    </tr>\n",
       "    <tr>\n",
       "      <th>1972</th>\n",
       "      <td>1.280000e+12</td>\n",
       "      <td>NaN</td>\n",
       "      <td>22.14</td>\n",
       "      <td>962909.0</td>\n",
       "      <td>213220.0</td>\n",
       "    </tr>\n",
       "  </tbody>\n",
       "</table>\n",
       "</div>"
      ],
      "text/plain": [
       "Variable Name           GDP    NRI     PD      Area  Population\n",
       "Year                                                           \n",
       "1962           6.050000e+11    NaN  19.93  962909.0    191861.0\n",
       "1965                    NaN  928.5    NaN       NaN         NaN\n",
       "1967           8.620000e+11    NaN  21.16  962909.0    203713.0\n",
       "1969                    NaN  952.2    NaN       NaN         NaN\n",
       "1972           1.280000e+12    NaN  22.14  962909.0    213220.0"
      ]
     },
     "execution_count": 28,
     "metadata": {},
     "output_type": "execute_result"
    }
   ],
   "source": [
    "df_usa= df_usa.rename(columns={'Gross Domestic Product (GDP)': 'GDP', 'National Rainfall Index (NRI)': 'NRI',\n",
    "                   'Population density': 'PD','Total area of the country': 'Area','Total population': 'Population'})\n",
    "df_usa.head()"
   ]
  },
  {
   "cell_type": "markdown",
   "metadata": {},
   "source": [
    "Print the output of `df_usa.isnull().sum()`. This gives us the number of NAN values in each column. Replace the NAN values by 0, using `df_usa=df_usa.fillna(0)`. Print the output of `df_usa.isnull().sum()` again."
   ]
  },
  {
   "cell_type": "code",
   "execution_count": 29,
   "metadata": {},
   "outputs": [
    {
     "name": "stdout",
     "output_type": "stream",
     "text": [
      "('Number of NAN values before: ', Variable Name\n",
      "GDP            7\n",
      "NRI           11\n",
      "PD             7\n",
      "Area           7\n",
      "Population     7\n",
      "dtype: int64)\n",
      "('Number of NAN values after: ', Variable Name\n",
      "GDP           0\n",
      "NRI           0\n",
      "PD            0\n",
      "Area          0\n",
      "Population    0\n",
      "dtype: int64)\n"
     ]
    }
   ],
   "source": [
    "print(\"Number of NAN values before: \", df_usa.isnull().sum())\n",
    "print(\"Number of NAN values after: \",df_usa.fillna(0).isnull().sum())\n",
    "df_usa = df_usa.fillna(0)"
   ]
  },
  {
   "cell_type": "markdown",
   "metadata": {},
   "source": [
    "Calculate and print all the column averages and the column standard deviations."
   ]
  },
  {
   "cell_type": "code",
   "execution_count": 30,
   "metadata": {},
   "outputs": [
    {
     "name": "stdout",
     "output_type": "stream",
     "text": [
      "Variable Name\n",
      "GDP           4.620895e+12\n",
      "NRI           4.092737e+02\n",
      "PD            1.670158e+01\n",
      "Area          6.103147e+05\n",
      "Population    1.615134e+05\n",
      "dtype: float64\n",
      "Variable Name\n",
      "GDP           3.707173e+25\n",
      "NRI           2.435931e+05\n",
      "PD            1.837277e+02\n",
      "Area          2.293913e+11\n",
      "Population    1.726085e+10\n",
      "dtype: float64\n"
     ]
    }
   ],
   "source": [
    "print (df_usa.mean(axis = 0))\n",
    "print (df_usa.var(axis = 0))"
   ]
  },
  {
   "cell_type": "markdown",
   "metadata": {},
   "source": [
    "Using the `df_usa` dataframe, multiply the `Area` by 10 (so instead of 1000 ha, the unit becomes 100 ha = 1km^2). Store the result in place."
   ]
  },
  {
   "cell_type": "code",
   "execution_count": 31,
   "metadata": {},
   "outputs": [
    {
     "data": {
      "text/html": [
       "<div>\n",
       "<style>\n",
       "    .dataframe thead tr:only-child th {\n",
       "        text-align: right;\n",
       "    }\n",
       "\n",
       "    .dataframe thead th {\n",
       "        text-align: left;\n",
       "    }\n",
       "\n",
       "    .dataframe tbody tr th {\n",
       "        vertical-align: top;\n",
       "    }\n",
       "</style>\n",
       "<table border=\"1\" class=\"dataframe\">\n",
       "  <thead>\n",
       "    <tr style=\"text-align: right;\">\n",
       "      <th>Variable Name</th>\n",
       "      <th>GDP</th>\n",
       "      <th>NRI</th>\n",
       "      <th>PD</th>\n",
       "      <th>Area</th>\n",
       "      <th>Population</th>\n",
       "    </tr>\n",
       "    <tr>\n",
       "      <th>Year</th>\n",
       "      <th></th>\n",
       "      <th></th>\n",
       "      <th></th>\n",
       "      <th></th>\n",
       "      <th></th>\n",
       "    </tr>\n",
       "  </thead>\n",
       "  <tbody>\n",
       "    <tr>\n",
       "      <th>1962</th>\n",
       "      <td>6.050000e+11</td>\n",
       "      <td>0.0</td>\n",
       "      <td>19.93</td>\n",
       "      <td>9629090.0</td>\n",
       "      <td>191861.0</td>\n",
       "    </tr>\n",
       "    <tr>\n",
       "      <th>1965</th>\n",
       "      <td>0.000000e+00</td>\n",
       "      <td>928.5</td>\n",
       "      <td>0.00</td>\n",
       "      <td>0.0</td>\n",
       "      <td>0.0</td>\n",
       "    </tr>\n",
       "    <tr>\n",
       "      <th>1967</th>\n",
       "      <td>8.620000e+11</td>\n",
       "      <td>0.0</td>\n",
       "      <td>21.16</td>\n",
       "      <td>9629090.0</td>\n",
       "      <td>203713.0</td>\n",
       "    </tr>\n",
       "    <tr>\n",
       "      <th>1969</th>\n",
       "      <td>0.000000e+00</td>\n",
       "      <td>952.2</td>\n",
       "      <td>0.00</td>\n",
       "      <td>0.0</td>\n",
       "      <td>0.0</td>\n",
       "    </tr>\n",
       "    <tr>\n",
       "      <th>1972</th>\n",
       "      <td>1.280000e+12</td>\n",
       "      <td>0.0</td>\n",
       "      <td>22.14</td>\n",
       "      <td>9629090.0</td>\n",
       "      <td>213220.0</td>\n",
       "    </tr>\n",
       "  </tbody>\n",
       "</table>\n",
       "</div>"
      ],
      "text/plain": [
       "Variable Name           GDP    NRI     PD       Area  Population\n",
       "Year                                                            \n",
       "1962           6.050000e+11    0.0  19.93  9629090.0    191861.0\n",
       "1965           0.000000e+00  928.5   0.00        0.0         0.0\n",
       "1967           8.620000e+11    0.0  21.16  9629090.0    203713.0\n",
       "1969           0.000000e+00  952.2   0.00        0.0         0.0\n",
       "1972           1.280000e+12    0.0  22.14  9629090.0    213220.0"
      ]
     },
     "execution_count": 31,
     "metadata": {},
     "output_type": "execute_result"
    }
   ],
   "source": [
    "df_usa['Area'] = df_usa['Area']*10\n",
    "df_usa.head()"
   ]
  },
  {
   "cell_type": "markdown",
   "metadata": {},
   "source": [
    "Create a new column in `df_usa` called `GDP/capita` and populate it with the calculated GDP per capita. Round the results to two decimal points. Store the result in place."
   ]
  },
  {
   "cell_type": "code",
   "execution_count": 32,
   "metadata": {},
   "outputs": [
    {
     "data": {
      "text/plain": [
       "Year\n",
       "1962     3153324.54\n",
       "1965            NaN\n",
       "1967     4231443.26\n",
       "1969            NaN\n",
       "1972     6003189.19\n",
       "1974            NaN\n",
       "1977     9368374.34\n",
       "1981            NaN\n",
       "1982    14276310.73\n",
       "1984            NaN\n",
       "1987    19843129.27\n",
       "1992    25357879.55\n",
       "1996            NaN\n",
       "1997    31551983.82\n",
       "2002    38132082.60\n",
       "2007    48067997.98\n",
       "2012    51461408.71\n",
       "2014            NaN\n",
       "2015    55629106.14\n",
       "Name: GDP/capita, dtype: float64"
      ]
     },
     "execution_count": 32,
     "metadata": {},
     "output_type": "execute_result"
    }
   ],
   "source": [
    "df_usa['GDP/capita']= df_usa['GDP']/df_usa['Population']\n",
    "df_usa['GDP/capita'].round(decimals=2)"
   ]
  },
  {
   "cell_type": "markdown",
   "metadata": {},
   "source": [
    "Create a new column in `df_usa` called `PD2` (i.e. population density 2). Calculate the population density. **Note: the units should be inhab/km^2**. Round the reults to two decimal point. Store the result in place."
   ]
  },
  {
   "cell_type": "code",
   "execution_count": 33,
   "metadata": {},
   "outputs": [
    {
     "data": {
      "text/plain": [
       "Year\n",
       "1962    0.020000\n",
       "1965         NaN\n",
       "1967    0.020000\n",
       "1969         NaN\n",
       "1972    0.020000\n",
       "1974         NaN\n",
       "1977    0.020000\n",
       "1981         NaN\n",
       "1982    0.020000\n",
       "1984         NaN\n",
       "1987    0.030000\n",
       "1992    0.030000\n",
       "1996         NaN\n",
       "1997    0.030000\n",
       "2002    0.030000\n",
       "2007    0.030000\n",
       "2012    0.030000\n",
       "2014    0.000000\n",
       "2015         inf\n",
       "Name: PD2, dtype: float64"
      ]
     },
     "execution_count": 33,
     "metadata": {},
     "output_type": "execute_result"
    }
   ],
   "source": [
    "df_usa['PD2']= df_usa['Population']/df_usa['Area']\n",
    "df_usa['PD2'].round(decimals=2)"
   ]
  },
  {
   "cell_type": "markdown",
   "metadata": {},
   "source": [
    "Find the maximum value and minimum value of the 'NRI' column in the USA (using pandas methods). What years do the min and max values occur in?"
   ]
  },
  {
   "cell_type": "code",
   "execution_count": 34,
   "metadata": {},
   "outputs": [
    {
     "name": "stdout",
     "output_type": "stream",
     "text": [
      "1020.0\n",
      "0.0\n",
      "1992\n",
      "1962\n"
     ]
    }
   ],
   "source": [
    "print (df_usa['NRI'].max())\n",
    "print (df_usa['NRI'].min())\n",
    "print(df_usa['NRI'].argmax())\n",
    "print(df_usa['NRI'].argmin())"
   ]
  },
  {
   "cell_type": "markdown",
   "metadata": {},
   "source": [
    "## Matplotlib"
   ]
  },
  {
   "cell_type": "markdown",
   "metadata": {},
   "source": [
    "Create a dataframe called `icecream` that has column `Flavor` with entries `Strawberry`, `Vanilla`, and `Chocolate` and another column with `Price` with entries `3.50`, `3.00`, and `4.25`. "
   ]
  },
  {
   "cell_type": "code",
   "execution_count": 35,
   "metadata": {},
   "outputs": [
    {
     "name": "stdout",
     "output_type": "stream",
     "text": [
      "       Flavor  Price\n",
      "0  Strawberry   3.50\n",
      "1     Vanilla   3.00\n",
      "2   Chocolate   4.25\n"
     ]
    }
   ],
   "source": [
    "Flavor=np.array(['Strawberry', 'Vanilla', 'Chocolate'])\n",
    "Price=np.array([3.50,3.00,4.25])\n",
    "dict1 = {'Flavor':Flavor, 'Price':Price}\n",
    "icecream = pd.DataFrame(dict1) \n",
    "print(icecream)"
   ]
  },
  {
   "cell_type": "markdown",
   "metadata": {},
   "source": [
    "Create a bar chart representing the three flavors and their associated prices."
   ]
  },
  {
   "cell_type": "code",
   "execution_count": 36,
   "metadata": {},
   "outputs": [
    {
     "data": {
      "image/png": "[encoded data removed]",
      "text/plain": [
       "<matplotlib.figure.Figure at 0x10e0d4290>"
      ]
     },
     "metadata": {},
     "output_type": "display_data"
    }
   ],
   "source": [
    "plt.bar(Flavor, Price)\n",
    "plt.show()"
   ]
  },
  {
   "cell_type": "markdown",
   "metadata": {},
   "source": [
    "Create 9 random plots. The top three should be scatter plots (one with green dots, one with purple crosses, and one with blue triangles. The middle three graphs should be a line graph, a horizontal bar chart, and a histogram. The bottom three graphs should be trignometric functions (one sin, one cosine, one tangent)."
   ]
  },
  {
   "cell_type": "code",
   "execution_count": 37,
   "metadata": {},
   "outputs": [
    {
     "data": {
      "text/plain": [
       "[<matplotlib.lines.Line2D at 0x1165f97d0>]"
      ]
     },
     "execution_count": 37,
     "metadata": {},
     "output_type": "execute_result"
    },
    {
     "data": {
      "image/png": "[encoded data removed]",
      "text/plain": [
       "<matplotlib.figure.Figure at 0x10e1bfcd0>"
      ]
     },
     "metadata": {},
     "output_type": "display_data"
    }
   ],
   "source": [
    "x = np.linspace(0,2*np.pi,100)\n",
    "x1 = np.random.randn(50)\n",
    "x2 = np.random.randn(50)\n",
    "y1 = np.sin(x)\n",
    "y2 = np.cos(x)\n",
    "y3 = np.tan(x)\n",
    "f, ax = plt.subplots(nrows=3,ncols=3)\n",
    "ax[0,0].scatter(x1, x2, color='green')\n",
    "ax[0,1].scatter(x1, x2,color='purple',marker='x')\n",
    "ax[0,2].scatter(x1, x2,color='blue',marker='^')\n",
    "ax[1,0].plot(x, y)\n",
    "ax[1,1].barh(x, y)\n",
    "ax[1,2].hist(x)\n",
    "ax[2,0].plot(x,y1)\n",
    "ax[2,1].plot(x,y2)\n",
    "ax[2,2].plot(x,y3)"
   ]
  },
  {
   "cell_type": "markdown",
   "metadata": {
    "collapsed": true
   },
   "source": [
    "## Extra Credit"
   ]
  },
  {
   "cell_type": "markdown",
   "metadata": {},
   "source": [
    "Run the cell below to read in the data. See: https://www.quantshare.com/sa-43-10-ways-to-download-historical-stock-quotes-data-for-free"
   ]
  },
  {
   "cell_type": "code",
   "execution_count": 38,
   "metadata": {},
   "outputs": [
    {
     "data": {
      "text/html": [
       "<div>\n",
       "<style>\n",
       "    .dataframe thead tr:only-child th {\n",
       "        text-align: right;\n",
       "    }\n",
       "\n",
       "    .dataframe thead th {\n",
       "        text-align: left;\n",
       "    }\n",
       "\n",
       "    .dataframe tbody tr th {\n",
       "        vertical-align: top;\n",
       "    }\n",
       "</style>\n",
       "<table border=\"1\" class=\"dataframe\">\n",
       "  <thead>\n",
       "    <tr style=\"text-align: right;\">\n",
       "      <th></th>\n",
       "      <th>Date</th>\n",
       "      <th>Open</th>\n",
       "      <th>High</th>\n",
       "      <th>Low</th>\n",
       "      <th>Close</th>\n",
       "      <th>Volume</th>\n",
       "    </tr>\n",
       "  </thead>\n",
       "  <tbody>\n",
       "    <tr>\n",
       "      <th>0</th>\n",
       "      <td>7-Feb-18</td>\n",
       "      <td>163.08</td>\n",
       "      <td>163.40</td>\n",
       "      <td>159.07</td>\n",
       "      <td>159.54</td>\n",
       "      <td>51608580</td>\n",
       "    </tr>\n",
       "    <tr>\n",
       "      <th>1</th>\n",
       "      <td>6-Feb-18</td>\n",
       "      <td>154.83</td>\n",
       "      <td>163.72</td>\n",
       "      <td>154.00</td>\n",
       "      <td>163.03</td>\n",
       "      <td>68243838</td>\n",
       "    </tr>\n",
       "    <tr>\n",
       "      <th>2</th>\n",
       "      <td>5-Feb-18</td>\n",
       "      <td>159.10</td>\n",
       "      <td>163.88</td>\n",
       "      <td>156.00</td>\n",
       "      <td>156.49</td>\n",
       "      <td>72738522</td>\n",
       "    </tr>\n",
       "    <tr>\n",
       "      <th>3</th>\n",
       "      <td>2-Feb-18</td>\n",
       "      <td>166.00</td>\n",
       "      <td>166.80</td>\n",
       "      <td>160.10</td>\n",
       "      <td>160.50</td>\n",
       "      <td>86593825</td>\n",
       "    </tr>\n",
       "    <tr>\n",
       "      <th>4</th>\n",
       "      <td>1-Feb-18</td>\n",
       "      <td>167.16</td>\n",
       "      <td>168.62</td>\n",
       "      <td>166.76</td>\n",
       "      <td>167.78</td>\n",
       "      <td>47230787</td>\n",
       "    </tr>\n",
       "  </tbody>\n",
       "</table>\n",
       "</div>"
      ],
      "text/plain": [
       "       Date    Open    High     Low   Close    Volume\n",
       "0  7-Feb-18  163.08  163.40  159.07  159.54  51608580\n",
       "1  6-Feb-18  154.83  163.72  154.00  163.03  68243838\n",
       "2  5-Feb-18  159.10  163.88  156.00  156.49  72738522\n",
       "3  2-Feb-18  166.00  166.80  160.10  160.50  86593825\n",
       "4  1-Feb-18  167.16  168.62  166.76  167.78  47230787"
      ]
     },
     "execution_count": 38,
     "metadata": {},
     "output_type": "execute_result"
    }
   ],
   "source": [
    "df_google = pd.read_csv('https://finance.google.com/finance/historical?output=csv&q=goog')\n",
    "df_apple = pd.read_csv('https://finance.google.com/finance/historical?output=csv&q=aapl')\n",
    "df_disney = pd.read_csv('https://finance.google.com/finance/historical?output=csv&q=dis')\n",
    "df_nike= pd.read_csv('https://finance.google.com/finance/historical?output=csv&q=nke')\n",
    "df_apple.head()"
   ]
  },
  {
   "cell_type": "markdown",
   "metadata": {},
   "source": [
    "Show a 3 x 3 correlation matrix for Nike, Apple, and Disney stock prices for the month of July, 2017.  \n",
    "\n",
    "Hint: Convert `Date` to a pandas datetime object. \n",
    "Change the indices of all the dataframes to `Date`. Use `Date` indices to filter rows.\n",
    "Create a new dataframe that stores values of the `Close` column from each dataframe.\n",
    "Use the `Close` column of each company's stock data to find the correlation using df.corr()."
   ]
  },
  {
   "cell_type": "code",
   "execution_count": 39,
   "metadata": {},
   "outputs": [
    {
     "name": "stdout",
     "output_type": "stream",
     "text": [
      "              Close_apple  Close_disney  Close_google  Close_nike\n",
      "Close_apple      1.000000     -0.300161      0.873254    0.485546\n",
      "Close_disney    -0.300161      1.000000     -0.196887    0.395829\n",
      "Close_google     0.873254     -0.196887      1.000000    0.582292\n",
      "Close_nike       0.485546      0.395829      0.582292    1.000000\n"
     ]
    }
   ],
   "source": [
    "df_google['Date'] = pd.to_datetime(df_google['Date'])\n",
    "df_apple['Date'] = pd.to_datetime(df_apple['Date'])\n",
    "df_disney['Date'] = pd.to_datetime(df_disney['Date'])\n",
    "df_nike['Date'] = pd.to_datetime(df_nike['Date'])\n",
    "\n",
    "dict2 = {'Date':df_google['Date'], 'Close_google':df_google['Close'],'Close_apple':df_apple['Close'],\n",
    "         'Close_disney': df_disney['Close'],'Close_nike':df_nike['Close'] }\n",
    "df_close=pd.DataFrame(dict2)\n",
    "df_close.head()\n",
    "print(df_close.corr())"
   ]
  },
  {
   "cell_type": "markdown",
   "metadata": {},
   "source": [
    "Show the same correlation matrix but over different time periods.\n",
    "1. the last 20 days  \n",
    "2. the last 80 days"
   ]
  },
  {
   "cell_type": "code",
   "execution_count": 40,
   "metadata": {},
   "outputs": [
    {
     "name": "stdout",
     "output_type": "stream",
     "text": [
      "            Nike     Apple    Disney\n",
      "Nike    1.000000 -0.199802  0.137860\n",
      "Apple  -0.199802  1.000000  0.795513\n",
      "Disney  0.137860  0.795513  1.000000\n",
      "            Nike     Apple    Disney\n",
      "Nike    1.000000  0.458669  0.898833\n",
      "Apple   0.458669  1.000000  0.603297\n",
      "Disney  0.898833  0.603297  1.000000\n"
     ]
    }
   ],
   "source": [
    "df1 = pd.DataFrame()\n",
    "df1['Nike'] = df_nike[:20]['Close']\n",
    "df1['Apple'] = df_apple[:20]['Close']\n",
    "df1['Disney'] = df_disney[:20]['Close']\n",
    "print(df1.corr())\n",
    "\n",
    "df2 = pd.DataFrame()\n",
    "df2['Nike'] = df_nike[:80]['Close']\n",
    "df2['Apple'] = df_apple[:80]['Close']\n",
    "df2['Disney'] = df_disney[:80]['Close']\n",
    "print(df2.corr())"
   ]
  },
  {
   "cell_type": "markdown",
   "metadata": {},
   "source": [
    "Change the code so that it accepts a list of any stock symbols (i.e. ['NKE', 'APPL', 'DIS', ... ]) and creates a correlation matrix for the past 100 days."
   ]
  },
  {
   "cell_type": "code",
   "execution_count": 41,
   "metadata": {},
   "outputs": [],
   "source": [
    "def Extra(a):\n",
    "    df3= pd.DataFrame()\n",
    "    for i in range(len(a)):\n",
    "        data= 'https://finance.google.com/finance/historical?output=csv&q={Name}'\n",
    "        data=data.format(Name=a[i])\n",
    "        df_name=pd.read_csv(data)\n",
    "        df_name['Date'] = pd.to_datetime(df_name['Date'])\n",
    "        df3[a[i]] = df_name[:100]['Close']\n",
    "    return df3.corr()"
   ]
  },
  {
   "cell_type": "code",
   "execution_count": 42,
   "metadata": {},
   "outputs": [
    {
     "data": {
      "text/html": [
       "<div>\n",
       "<style>\n",
       "    .dataframe thead tr:only-child th {\n",
       "        text-align: right;\n",
       "    }\n",
       "\n",
       "    .dataframe thead th {\n",
       "        text-align: left;\n",
       "    }\n",
       "\n",
       "    .dataframe tbody tr th {\n",
       "        vertical-align: top;\n",
       "    }\n",
       "</style>\n",
       "<table border=\"1\" class=\"dataframe\">\n",
       "  <thead>\n",
       "    <tr style=\"text-align: right;\">\n",
       "      <th></th>\n",
       "      <th>NKE</th>\n",
       "      <th>AAPL</th>\n",
       "      <th>DIS</th>\n",
       "    </tr>\n",
       "  </thead>\n",
       "  <tbody>\n",
       "    <tr>\n",
       "      <th>NKE</th>\n",
       "      <td>1.000000</td>\n",
       "      <td>0.689558</td>\n",
       "      <td>0.919439</td>\n",
       "    </tr>\n",
       "    <tr>\n",
       "      <th>AAPL</th>\n",
       "      <td>0.689558</td>\n",
       "      <td>1.000000</td>\n",
       "      <td>0.723588</td>\n",
       "    </tr>\n",
       "    <tr>\n",
       "      <th>DIS</th>\n",
       "      <td>0.919439</td>\n",
       "      <td>0.723588</td>\n",
       "      <td>1.000000</td>\n",
       "    </tr>\n",
       "  </tbody>\n",
       "</table>\n",
       "</div>"
      ],
      "text/plain": [
       "           NKE      AAPL       DIS\n",
       "NKE   1.000000  0.689558  0.919439\n",
       "AAPL  0.689558  1.000000  0.723588\n",
       "DIS   0.919439  0.723588  1.000000"
      ]
     },
     "execution_count": 42,
     "metadata": {},
     "output_type": "execute_result"
    }
   ],
   "source": [
    "a= ['NKE', 'AAPL', 'DIS']\n",
    "Extra(a)"
   ]
  }
 ],
 "metadata": {
  "anaconda-cloud": {},
  "kernelspec": {
   "display_name": "Python 2",
   "language": "python",
   "name": "python2"
  },
  "language_info": {
   "codemirror_mode": {
    "name": "ipython",
    "version": 2
   },
   "file_extension": ".py",
   "mimetype": "text/x-python",
   "name": "python",
   "nbconvert_exporter": "python",
   "pygments_lexer": "ipython2",
   "version": "2.7.14"
  }
 },
 "nbformat": 4,
 "nbformat_minor": 1
}
